{
 "cells": [
  {
   "cell_type": "code",
   "execution_count": 1,
   "id": "41a60011",
   "metadata": {},
   "outputs": [
    {
     "name": "stdout",
     "output_type": "stream",
     "text": [
      "Requirement already satisfied: geopy in c:\\users\\divek\\anaconda3\\lib\\site-packages (2.4.1)\n",
      "Requirement already satisfied: geographiclib<3,>=1.52 in c:\\users\\divek\\anaconda3\\lib\\site-packages (from geopy) (2.0)\n"
     ]
    }
   ],
   "source": [
    "!pip install geopy\n",
    "import pandas as pd\n",
    "import numpy as np\n",
    "import matplotlib.pyplot as plt\n",
    "import seaborn as sns\n",
    "from datetime import datetime\n",
    "from datetime import timedelta"
   ]
  },
  {
   "cell_type": "code",
   "execution_count": 2,
   "id": "5c457f88",
   "metadata": {},
   "outputs": [
    {
     "data": {
      "text/html": [
       "<div>\n",
       "<style scoped>\n",
       "    .dataframe tbody tr th:only-of-type {\n",
       "        vertical-align: middle;\n",
       "    }\n",
       "\n",
       "    .dataframe tbody tr th {\n",
       "        vertical-align: top;\n",
       "    }\n",
       "\n",
       "    .dataframe thead th {\n",
       "        text-align: right;\n",
       "    }\n",
       "</style>\n",
       "<table border=\"1\" class=\"dataframe\">\n",
       "  <thead>\n",
       "    <tr style=\"text-align: right;\">\n",
       "      <th></th>\n",
       "      <th>ID</th>\n",
       "      <th>Delivery_person_ID</th>\n",
       "      <th>Delivery_person_Age</th>\n",
       "      <th>Delivery_person_Ratings</th>\n",
       "      <th>Restaurant_latitude</th>\n",
       "      <th>Restaurant_longitude</th>\n",
       "      <th>Delivery_location_latitude</th>\n",
       "      <th>Delivery_location_longitude</th>\n",
       "      <th>Order_Date</th>\n",
       "      <th>Time_Orderd</th>\n",
       "      <th>Time_Order_picked</th>\n",
       "      <th>Weatherconditions</th>\n",
       "      <th>Road_traffic_density</th>\n",
       "      <th>Vehicle_condition</th>\n",
       "      <th>Type_of_order</th>\n",
       "      <th>Type_of_vehicle</th>\n",
       "      <th>multiple_deliveries</th>\n",
       "      <th>Festival</th>\n",
       "      <th>City</th>\n",
       "      <th>Time_taken(min)</th>\n",
       "    </tr>\n",
       "  </thead>\n",
       "  <tbody>\n",
       "    <tr>\n",
       "      <th>0</th>\n",
       "      <td>0x4607</td>\n",
       "      <td>INDORES13DEL02</td>\n",
       "      <td>37</td>\n",
       "      <td>4.9</td>\n",
       "      <td>22.745049</td>\n",
       "      <td>75.892471</td>\n",
       "      <td>22.765049</td>\n",
       "      <td>75.912471</td>\n",
       "      <td>19-03-2022</td>\n",
       "      <td>11:30:00</td>\n",
       "      <td>11:45:00</td>\n",
       "      <td>conditions Sunny</td>\n",
       "      <td>High</td>\n",
       "      <td>2</td>\n",
       "      <td>Snack</td>\n",
       "      <td>motorcycle</td>\n",
       "      <td>0</td>\n",
       "      <td>No</td>\n",
       "      <td>Urban</td>\n",
       "      <td>(min) 24</td>\n",
       "    </tr>\n",
       "    <tr>\n",
       "      <th>1</th>\n",
       "      <td>0xb379</td>\n",
       "      <td>BANGRES18DEL02</td>\n",
       "      <td>34</td>\n",
       "      <td>4.5</td>\n",
       "      <td>12.913041</td>\n",
       "      <td>77.683237</td>\n",
       "      <td>13.043041</td>\n",
       "      <td>77.813237</td>\n",
       "      <td>25-03-2022</td>\n",
       "      <td>19:45:00</td>\n",
       "      <td>19:50:00</td>\n",
       "      <td>conditions Stormy</td>\n",
       "      <td>Jam</td>\n",
       "      <td>2</td>\n",
       "      <td>Snack</td>\n",
       "      <td>scooter</td>\n",
       "      <td>1</td>\n",
       "      <td>No</td>\n",
       "      <td>Metropolitian</td>\n",
       "      <td>(min) 33</td>\n",
       "    </tr>\n",
       "    <tr>\n",
       "      <th>2</th>\n",
       "      <td>0x5d6d</td>\n",
       "      <td>BANGRES19DEL01</td>\n",
       "      <td>23</td>\n",
       "      <td>4.4</td>\n",
       "      <td>12.914264</td>\n",
       "      <td>77.678400</td>\n",
       "      <td>12.924264</td>\n",
       "      <td>77.688400</td>\n",
       "      <td>19-03-2022</td>\n",
       "      <td>08:30:00</td>\n",
       "      <td>08:45:00</td>\n",
       "      <td>conditions Sandstorms</td>\n",
       "      <td>Low</td>\n",
       "      <td>0</td>\n",
       "      <td>Drinks</td>\n",
       "      <td>motorcycle</td>\n",
       "      <td>1</td>\n",
       "      <td>No</td>\n",
       "      <td>Urban</td>\n",
       "      <td>(min) 26</td>\n",
       "    </tr>\n",
       "    <tr>\n",
       "      <th>3</th>\n",
       "      <td>0x7a6a</td>\n",
       "      <td>COIMBRES13DEL02</td>\n",
       "      <td>38</td>\n",
       "      <td>4.7</td>\n",
       "      <td>11.003669</td>\n",
       "      <td>76.976494</td>\n",
       "      <td>11.053669</td>\n",
       "      <td>77.026494</td>\n",
       "      <td>05-04-2022</td>\n",
       "      <td>18:00:00</td>\n",
       "      <td>18:10:00</td>\n",
       "      <td>conditions Sunny</td>\n",
       "      <td>Medium</td>\n",
       "      <td>0</td>\n",
       "      <td>Buffet</td>\n",
       "      <td>motorcycle</td>\n",
       "      <td>1</td>\n",
       "      <td>No</td>\n",
       "      <td>Metropolitian</td>\n",
       "      <td>(min) 21</td>\n",
       "    </tr>\n",
       "    <tr>\n",
       "      <th>4</th>\n",
       "      <td>0x70a2</td>\n",
       "      <td>CHENRES12DEL01</td>\n",
       "      <td>32</td>\n",
       "      <td>4.6</td>\n",
       "      <td>12.972793</td>\n",
       "      <td>80.249982</td>\n",
       "      <td>13.012793</td>\n",
       "      <td>80.289982</td>\n",
       "      <td>26-03-2022</td>\n",
       "      <td>13:30:00</td>\n",
       "      <td>13:45:00</td>\n",
       "      <td>conditions Cloudy</td>\n",
       "      <td>High</td>\n",
       "      <td>1</td>\n",
       "      <td>Snack</td>\n",
       "      <td>scooter</td>\n",
       "      <td>1</td>\n",
       "      <td>No</td>\n",
       "      <td>Metropolitian</td>\n",
       "      <td>(min) 30</td>\n",
       "    </tr>\n",
       "  </tbody>\n",
       "</table>\n",
       "</div>"
      ],
      "text/plain": [
       "        ID Delivery_person_ID Delivery_person_Age Delivery_person_Ratings  \\\n",
       "0  0x4607     INDORES13DEL02                   37                     4.9   \n",
       "1  0xb379     BANGRES18DEL02                   34                     4.5   \n",
       "2  0x5d6d     BANGRES19DEL01                   23                     4.4   \n",
       "3  0x7a6a    COIMBRES13DEL02                   38                     4.7   \n",
       "4  0x70a2     CHENRES12DEL01                   32                     4.6   \n",
       "\n",
       "   Restaurant_latitude  Restaurant_longitude  Delivery_location_latitude  \\\n",
       "0            22.745049             75.892471                   22.765049   \n",
       "1            12.913041             77.683237                   13.043041   \n",
       "2            12.914264             77.678400                   12.924264   \n",
       "3            11.003669             76.976494                   11.053669   \n",
       "4            12.972793             80.249982                   13.012793   \n",
       "\n",
       "   Delivery_location_longitude  Order_Date Time_Orderd Time_Order_picked  \\\n",
       "0                    75.912471  19-03-2022    11:30:00          11:45:00   \n",
       "1                    77.813237  25-03-2022    19:45:00          19:50:00   \n",
       "2                    77.688400  19-03-2022    08:30:00          08:45:00   \n",
       "3                    77.026494  05-04-2022    18:00:00          18:10:00   \n",
       "4                    80.289982  26-03-2022    13:30:00          13:45:00   \n",
       "\n",
       "       Weatherconditions Road_traffic_density  Vehicle_condition  \\\n",
       "0       conditions Sunny                High                   2   \n",
       "1      conditions Stormy                 Jam                   2   \n",
       "2  conditions Sandstorms                 Low                   0   \n",
       "3       conditions Sunny              Medium                   0   \n",
       "4      conditions Cloudy                High                   1   \n",
       "\n",
       "  Type_of_order Type_of_vehicle multiple_deliveries Festival            City  \\\n",
       "0        Snack      motorcycle                    0      No           Urban    \n",
       "1        Snack         scooter                    1      No   Metropolitian    \n",
       "2       Drinks      motorcycle                    1      No           Urban    \n",
       "3       Buffet      motorcycle                    1      No   Metropolitian    \n",
       "4        Snack         scooter                    1      No   Metropolitian    \n",
       "\n",
       "  Time_taken(min)  \n",
       "0        (min) 24  \n",
       "1        (min) 33  \n",
       "2        (min) 26  \n",
       "3        (min) 21  \n",
       "4        (min) 30  "
      ]
     },
     "execution_count": 2,
     "metadata": {},
     "output_type": "execute_result"
    }
   ],
   "source": [
    "df_train = pd.read_csv(\"train.csv\")\n",
    "df_train.head()"
   ]
  },
  {
   "cell_type": "code",
   "execution_count": 3,
   "id": "d7aa5363",
   "metadata": {},
   "outputs": [
    {
     "name": "stdout",
     "output_type": "stream",
     "text": [
      "<class 'pandas.core.frame.DataFrame'>\n",
      "RangeIndex: 45593 entries, 0 to 45592\n",
      "Data columns (total 20 columns):\n",
      " #   Column                       Non-Null Count  Dtype  \n",
      "---  ------                       --------------  -----  \n",
      " 0   ID                           45593 non-null  object \n",
      " 1   Delivery_person_ID           45593 non-null  object \n",
      " 2   Delivery_person_Age          45593 non-null  object \n",
      " 3   Delivery_person_Ratings      45593 non-null  object \n",
      " 4   Restaurant_latitude          45593 non-null  float64\n",
      " 5   Restaurant_longitude         45593 non-null  float64\n",
      " 6   Delivery_location_latitude   45593 non-null  float64\n",
      " 7   Delivery_location_longitude  45593 non-null  float64\n",
      " 8   Order_Date                   45593 non-null  object \n",
      " 9   Time_Orderd                  45593 non-null  object \n",
      " 10  Time_Order_picked            45593 non-null  object \n",
      " 11  Weatherconditions            45593 non-null  object \n",
      " 12  Road_traffic_density         45593 non-null  object \n",
      " 13  Vehicle_condition            45593 non-null  int64  \n",
      " 14  Type_of_order                45593 non-null  object \n",
      " 15  Type_of_vehicle              45593 non-null  object \n",
      " 16  multiple_deliveries          45593 non-null  object \n",
      " 17  Festival                     45593 non-null  object \n",
      " 18  City                         45593 non-null  object \n",
      " 19  Time_taken(min)              45593 non-null  object \n",
      "dtypes: float64(4), int64(1), object(15)\n",
      "memory usage: 7.0+ MB\n"
     ]
    }
   ],
   "source": [
    "df_train.info()"
   ]
  },
  {
   "cell_type": "code",
   "execution_count": 4,
   "id": "67b225d6",
   "metadata": {},
   "outputs": [
    {
     "data": {
      "text/html": [
       "<div>\n",
       "<style scoped>\n",
       "    .dataframe tbody tr th:only-of-type {\n",
       "        vertical-align: middle;\n",
       "    }\n",
       "\n",
       "    .dataframe tbody tr th {\n",
       "        vertical-align: top;\n",
       "    }\n",
       "\n",
       "    .dataframe thead th {\n",
       "        text-align: right;\n",
       "    }\n",
       "</style>\n",
       "<table border=\"1\" class=\"dataframe\">\n",
       "  <thead>\n",
       "    <tr style=\"text-align: right;\">\n",
       "      <th></th>\n",
       "      <th>ID</th>\n",
       "      <th>Delivery_person_ID</th>\n",
       "      <th>Delivery_person_Age</th>\n",
       "      <th>Delivery_person_Ratings</th>\n",
       "      <th>Restaurant_latitude</th>\n",
       "      <th>Restaurant_longitude</th>\n",
       "      <th>Delivery_location_latitude</th>\n",
       "      <th>Delivery_location_longitude</th>\n",
       "      <th>Order_Date</th>\n",
       "      <th>Time_Orderd</th>\n",
       "      <th>Time_Order_picked</th>\n",
       "      <th>Weatherconditions</th>\n",
       "      <th>Road_traffic_density</th>\n",
       "      <th>Vehicle_condition</th>\n",
       "      <th>Type_of_order</th>\n",
       "      <th>Type_of_vehicle</th>\n",
       "      <th>multiple_deliveries</th>\n",
       "      <th>Festival</th>\n",
       "      <th>City</th>\n",
       "    </tr>\n",
       "  </thead>\n",
       "  <tbody>\n",
       "    <tr>\n",
       "      <th>0</th>\n",
       "      <td>0x2318</td>\n",
       "      <td>COIMBRES13DEL01</td>\n",
       "      <td>NaN</td>\n",
       "      <td>NaN</td>\n",
       "      <td>11.003669</td>\n",
       "      <td>76.976494</td>\n",
       "      <td>11.043669</td>\n",
       "      <td>77.016494</td>\n",
       "      <td>30-03-2022</td>\n",
       "      <td>NaN</td>\n",
       "      <td>15:05:00</td>\n",
       "      <td>conditions NaN</td>\n",
       "      <td>NaN</td>\n",
       "      <td>3</td>\n",
       "      <td>Drinks</td>\n",
       "      <td>electric_scooter</td>\n",
       "      <td>1</td>\n",
       "      <td>No</td>\n",
       "      <td>Metropolitian</td>\n",
       "    </tr>\n",
       "    <tr>\n",
       "      <th>1</th>\n",
       "      <td>0x3474</td>\n",
       "      <td>BANGRES15DEL01</td>\n",
       "      <td>28</td>\n",
       "      <td>4.6</td>\n",
       "      <td>12.975377</td>\n",
       "      <td>77.696664</td>\n",
       "      <td>13.085377</td>\n",
       "      <td>77.806664</td>\n",
       "      <td>29-03-2022</td>\n",
       "      <td>20:30:00</td>\n",
       "      <td>20:35:00</td>\n",
       "      <td>conditions Windy</td>\n",
       "      <td>Jam</td>\n",
       "      <td>0</td>\n",
       "      <td>Snack</td>\n",
       "      <td>motorcycle</td>\n",
       "      <td>1</td>\n",
       "      <td>No</td>\n",
       "      <td>Metropolitian</td>\n",
       "    </tr>\n",
       "    <tr>\n",
       "      <th>2</th>\n",
       "      <td>0x9420</td>\n",
       "      <td>JAPRES09DEL03</td>\n",
       "      <td>23</td>\n",
       "      <td>4.5</td>\n",
       "      <td>26.911378</td>\n",
       "      <td>75.789034</td>\n",
       "      <td>27.001378</td>\n",
       "      <td>75.879034</td>\n",
       "      <td>10-03-2022</td>\n",
       "      <td>19:35:00</td>\n",
       "      <td>19:45:00</td>\n",
       "      <td>conditions Stormy</td>\n",
       "      <td>Jam</td>\n",
       "      <td>0</td>\n",
       "      <td>Drinks</td>\n",
       "      <td>motorcycle</td>\n",
       "      <td>1</td>\n",
       "      <td>No</td>\n",
       "      <td>Metropolitian</td>\n",
       "    </tr>\n",
       "    <tr>\n",
       "      <th>3</th>\n",
       "      <td>0x72ee</td>\n",
       "      <td>JAPRES07DEL03</td>\n",
       "      <td>21</td>\n",
       "      <td>4.8</td>\n",
       "      <td>26.766536</td>\n",
       "      <td>75.837333</td>\n",
       "      <td>26.856536</td>\n",
       "      <td>75.927333</td>\n",
       "      <td>02-04-2022</td>\n",
       "      <td>17:15:00</td>\n",
       "      <td>17:20:00</td>\n",
       "      <td>conditions Fog</td>\n",
       "      <td>Medium</td>\n",
       "      <td>1</td>\n",
       "      <td>Meal</td>\n",
       "      <td>scooter</td>\n",
       "      <td>1</td>\n",
       "      <td>No</td>\n",
       "      <td>Metropolitian</td>\n",
       "    </tr>\n",
       "    <tr>\n",
       "      <th>4</th>\n",
       "      <td>0xa759</td>\n",
       "      <td>CHENRES19DEL01</td>\n",
       "      <td>31</td>\n",
       "      <td>4.6</td>\n",
       "      <td>12.986047</td>\n",
       "      <td>80.218114</td>\n",
       "      <td>13.096047</td>\n",
       "      <td>80.328114</td>\n",
       "      <td>27-03-2022</td>\n",
       "      <td>18:25:00</td>\n",
       "      <td>18:40:00</td>\n",
       "      <td>conditions Sunny</td>\n",
       "      <td>Medium</td>\n",
       "      <td>2</td>\n",
       "      <td>Drinks</td>\n",
       "      <td>scooter</td>\n",
       "      <td>1</td>\n",
       "      <td>No</td>\n",
       "      <td>Metropolitian</td>\n",
       "    </tr>\n",
       "  </tbody>\n",
       "</table>\n",
       "</div>"
      ],
      "text/plain": [
       "        ID Delivery_person_ID Delivery_person_Age Delivery_person_Ratings  \\\n",
       "0  0x2318    COIMBRES13DEL01                 NaN                     NaN    \n",
       "1  0x3474     BANGRES15DEL01                   28                     4.6   \n",
       "2  0x9420      JAPRES09DEL03                   23                     4.5   \n",
       "3  0x72ee      JAPRES07DEL03                   21                     4.8   \n",
       "4  0xa759     CHENRES19DEL01                   31                     4.6   \n",
       "\n",
       "   Restaurant_latitude  Restaurant_longitude  Delivery_location_latitude  \\\n",
       "0            11.003669             76.976494                   11.043669   \n",
       "1            12.975377             77.696664                   13.085377   \n",
       "2            26.911378             75.789034                   27.001378   \n",
       "3            26.766536             75.837333                   26.856536   \n",
       "4            12.986047             80.218114                   13.096047   \n",
       "\n",
       "   Delivery_location_longitude  Order_Date Time_Orderd Time_Order_picked  \\\n",
       "0                    77.016494  30-03-2022        NaN           15:05:00   \n",
       "1                    77.806664  29-03-2022    20:30:00          20:35:00   \n",
       "2                    75.879034  10-03-2022    19:35:00          19:45:00   \n",
       "3                    75.927333  02-04-2022    17:15:00          17:20:00   \n",
       "4                    80.328114  27-03-2022    18:25:00          18:40:00   \n",
       "\n",
       "   Weatherconditions Road_traffic_density  Vehicle_condition Type_of_order  \\\n",
       "0     conditions NaN                 NaN                   3       Drinks    \n",
       "1   conditions Windy                 Jam                   0        Snack    \n",
       "2  conditions Stormy                 Jam                   0       Drinks    \n",
       "3     conditions Fog              Medium                   1         Meal    \n",
       "4   conditions Sunny              Medium                   2       Drinks    \n",
       "\n",
       "     Type_of_vehicle multiple_deliveries Festival            City  \n",
       "0  electric_scooter                    1      No   Metropolitian   \n",
       "1        motorcycle                    1      No   Metropolitian   \n",
       "2        motorcycle                    1      No   Metropolitian   \n",
       "3           scooter                    1      No   Metropolitian   \n",
       "4           scooter                    1      No   Metropolitian   "
      ]
     },
     "execution_count": 4,
     "metadata": {},
     "output_type": "execute_result"
    }
   ],
   "source": [
    "df_test = pd.read_csv(\"test.csv\")\n",
    "df_test.head()"
   ]
  },
  {
   "cell_type": "code",
   "execution_count": 5,
   "id": "4b2bc27c",
   "metadata": {},
   "outputs": [
    {
     "name": "stdout",
     "output_type": "stream",
     "text": [
      "ID                                0\n",
      "Delivery_person_ID                0\n",
      "Delivery_person_Age            1854\n",
      "Delivery_person_Ratings        1908\n",
      "Restaurant_latitude               0\n",
      "Restaurant_longitude              0\n",
      "Delivery_location_latitude        0\n",
      "Delivery_location_longitude       0\n",
      "Order_Date                        0\n",
      "Time_Orderd                    1731\n",
      "Time_Order_picked                 0\n",
      "Weatherconditions               616\n",
      "Road_traffic_density            601\n",
      "Vehicle_condition                 0\n",
      "Type_of_order                     0\n",
      "Type_of_vehicle                   0\n",
      "multiple_deliveries             993\n",
      "Festival                        228\n",
      "City                           1200\n",
      "Time_taken(min)                   0\n",
      "dtype: int64\n"
     ]
    }
   ],
   "source": [
    "df_train = df_train.replace('NaN', np.nan, regex=True)\n",
    "null_counts = df_train.isnull().sum()\n",
    "print(null_counts)"
   ]
  },
  {
   "cell_type": "code",
   "execution_count": 6,
   "id": "de9edbb5",
   "metadata": {},
   "outputs": [
    {
     "name": "stdout",
     "output_type": "stream",
     "text": [
      "ID                               0\n",
      "Delivery_person_ID               0\n",
      "Delivery_person_Age            491\n",
      "Delivery_person_Ratings        507\n",
      "Restaurant_latitude              0\n",
      "Restaurant_longitude             0\n",
      "Delivery_location_latitude       0\n",
      "Delivery_location_longitude      0\n",
      "Order_Date                       0\n",
      "Time_Orderd                    444\n",
      "Time_Order_picked                0\n",
      "Weatherconditions              158\n",
      "Road_traffic_density           154\n",
      "Vehicle_condition                0\n",
      "Type_of_order                    0\n",
      "Type_of_vehicle                  0\n",
      "multiple_deliveries            238\n",
      "Festival                        65\n",
      "City                           324\n",
      "dtype: int64\n"
     ]
    }
   ],
   "source": [
    "df_test = df_test.replace('NaN', np.nan, regex=True)\n",
    "null_counts_test = df_test.isnull().sum()\n",
    "print(null_counts_test)"
   ]
  },
  {
   "cell_type": "code",
   "execution_count": 7,
   "id": "4068a449",
   "metadata": {},
   "outputs": [],
   "source": [
    "#join train n test to clean the data \n",
    "df = pd.concat([df_test.assign(indic=\"test\"), df_train.assign(indic=\"train\")])"
   ]
  },
  {
   "cell_type": "code",
   "execution_count": 8,
   "id": "24366783",
   "metadata": {},
   "outputs": [
    {
     "name": "stdout",
     "output_type": "stream",
     "text": [
      "<class 'pandas.core.frame.DataFrame'>\n",
      "Int64Index: 56992 entries, 0 to 45592\n",
      "Data columns (total 21 columns):\n",
      " #   Column                       Non-Null Count  Dtype  \n",
      "---  ------                       --------------  -----  \n",
      " 0   ID                           56992 non-null  object \n",
      " 1   Delivery_person_ID           56992 non-null  object \n",
      " 2   Delivery_person_Age          54647 non-null  object \n",
      " 3   Delivery_person_Ratings      54577 non-null  object \n",
      " 4   Restaurant_latitude          56992 non-null  float64\n",
      " 5   Restaurant_longitude         56992 non-null  float64\n",
      " 6   Delivery_location_latitude   56992 non-null  float64\n",
      " 7   Delivery_location_longitude  56992 non-null  float64\n",
      " 8   Order_Date                   56992 non-null  object \n",
      " 9   Time_Orderd                  54817 non-null  object \n",
      " 10  Time_Order_picked            56992 non-null  object \n",
      " 11  Weatherconditions            56218 non-null  object \n",
      " 12  Road_traffic_density         56237 non-null  object \n",
      " 13  Vehicle_condition            56992 non-null  int64  \n",
      " 14  Type_of_order                56992 non-null  object \n",
      " 15  Type_of_vehicle              56992 non-null  object \n",
      " 16  multiple_deliveries          55761 non-null  object \n",
      " 17  Festival                     56699 non-null  object \n",
      " 18  City                         55468 non-null  object \n",
      " 19  indic                        56992 non-null  object \n",
      " 20  Time_taken(min)              45593 non-null  object \n",
      "dtypes: float64(4), int64(1), object(16)\n",
      "memory usage: 9.6+ MB\n"
     ]
    }
   ],
   "source": [
    "df.info()"
   ]
  },
  {
   "cell_type": "code",
   "execution_count": 9,
   "id": "3e91ed88",
   "metadata": {},
   "outputs": [],
   "source": [
    "#Removing the string part from Weatherconditions and min\n",
    "df['Weatherconditions']=df['Weatherconditions'].str.split(\" \", expand=True)[1]\n",
    "df['Time_taken(min)']=df['Time_taken(min)'].str.split(\" \", expand=True)[1]\n"
   ]
  },
  {
   "cell_type": "code",
   "execution_count": 10,
   "id": "a8c62360",
   "metadata": {},
   "outputs": [],
   "source": [
    "#changing quantitative variables to float\n",
    "num_cols = ['Delivery_person_Age','Delivery_person_Ratings','Vehicle_condition',\n",
    "        'Time_taken(min)']\n",
    "for col in num_cols:\n",
    "    df[col]=df[col].astype('float64')"
   ]
  },
  {
   "cell_type": "code",
   "execution_count": 11,
   "id": "be7fd73d",
   "metadata": {},
   "outputs": [
    {
     "name": "stdout",
     "output_type": "stream",
     "text": [
      "<class 'pandas.core.frame.DataFrame'>\n",
      "Int64Index: 56992 entries, 0 to 45592\n",
      "Data columns (total 21 columns):\n",
      " #   Column                       Non-Null Count  Dtype         \n",
      "---  ------                       --------------  -----         \n",
      " 0   ID                           56992 non-null  object        \n",
      " 1   Delivery_person_ID           56992 non-null  object        \n",
      " 2   Delivery_person_Age          54647 non-null  float64       \n",
      " 3   Delivery_person_Ratings      54577 non-null  float64       \n",
      " 4   Restaurant_latitude          56992 non-null  float64       \n",
      " 5   Restaurant_longitude         56992 non-null  float64       \n",
      " 6   Delivery_location_latitude   56992 non-null  float64       \n",
      " 7   Delivery_location_longitude  56992 non-null  float64       \n",
      " 8   Order_Date                   56992 non-null  datetime64[ns]\n",
      " 9   Time_Orderd                  54817 non-null  object        \n",
      " 10  Time_Order_picked            56992 non-null  object        \n",
      " 11  Weatherconditions            56218 non-null  object        \n",
      " 12  Road_traffic_density         56237 non-null  object        \n",
      " 13  Vehicle_condition            56992 non-null  float64       \n",
      " 14  Type_of_order                56992 non-null  object        \n",
      " 15  Type_of_vehicle              56992 non-null  object        \n",
      " 16  multiple_deliveries          55761 non-null  object        \n",
      " 17  Festival                     56699 non-null  object        \n",
      " 18  City                         55468 non-null  object        \n",
      " 19  indic                        56992 non-null  object        \n",
      " 20  Time_taken(min)              45593 non-null  float64       \n",
      "dtypes: datetime64[ns](1), float64(8), object(12)\n",
      "memory usage: 9.6+ MB\n"
     ]
    }
   ],
   "source": [
    "df['Order_Date']=pd.to_datetime(df['Order_Date'],format=\"%d-%m-%Y\")\n",
    "df.info()"
   ]
  },
  {
   "cell_type": "code",
   "execution_count": 13,
   "id": "adf81ebe",
   "metadata": {},
   "outputs": [],
   "source": [
    "cols=['Restaurant_latitude','Restaurant_longitude','Delivery_location_latitude','Delivery_location_longitude']\n",
    "for col in cols:\n",
    "    df[col]= abs(df[col])"
   ]
  },
  {
   "cell_type": "code",
   "execution_count": 14,
   "id": "70383929",
   "metadata": {},
   "outputs": [
    {
     "name": "stderr",
     "output_type": "stream",
     "text": [
      "C:\\Users\\divek\\AppData\\Local\\Temp\\ipykernel_67680\\440899755.py:9: SettingWithCopyWarning: \n",
      "A value is trying to be set on a copy of a slice from a DataFrame\n",
      "\n",
      "See the caveats in the documentation: https://pandas.pydata.org/pandas-docs/stable/user_guide/indexing.html#returning-a-view-versus-a-copy\n",
      "  df['distance'].loc[i]=geodesic(restaurant_cordinates_df[i],delivery_location_cordinates_df[i])\n"
     ]
    }
   ],
   "source": [
    "from geopy.distance import geodesic \n",
    "import gc\n",
    "\n",
    "df['distance']=np.zeros(len(df))\n",
    "restaurant_cordinates_df=df[['Restaurant_latitude','Restaurant_longitude']].to_numpy()\n",
    "delivery_location_cordinates_df=df[['Delivery_location_latitude','Delivery_location_longitude']].to_numpy()\n",
    "\n",
    "for i in range(len(df)):\n",
    "    df['distance'].loc[i]=geodesic(restaurant_cordinates_df[i],delivery_location_cordinates_df[i])"
   ]
  },
  {
   "cell_type": "code",
   "execution_count": 15,
   "id": "f7552cbc",
   "metadata": {},
   "outputs": [],
   "source": [
    "#converting geodisc to float\n",
    "df['distance']=df['distance'].astype(\"str\").str.extract('(\\d+)')\n",
    "df['distance']=df['distance'].astype(\"float64\")"
   ]
  },
  {
   "cell_type": "code",
   "execution_count": 16,
   "id": "d22997e3",
   "metadata": {},
   "outputs": [
    {
     "data": {
      "text/plain": [
       "count    56992.000000\n",
       "mean         9.244403\n",
       "std          5.563173\n",
       "min          1.000000\n",
       "25%          4.000000\n",
       "50%          9.000000\n",
       "75%         13.000000\n",
       "max         20.000000\n",
       "Name: distance, dtype: float64"
      ]
     },
     "execution_count": 16,
     "metadata": {},
     "output_type": "execute_result"
    }
   ],
   "source": [
    "df['distance'].describe()\n"
   ]
  },
  {
   "cell_type": "code",
   "execution_count": 17,
   "id": "95e15b97",
   "metadata": {},
   "outputs": [],
   "source": [
    "df['Time_Orderd']=pd.to_timedelta(df['Time_Orderd'])\n",
    "df['Time_Order_picked']=pd.to_timedelta(df['Time_Order_picked'])\n"
   ]
  },
  {
   "cell_type": "code",
   "execution_count": 18,
   "id": "85c46935",
   "metadata": {},
   "outputs": [],
   "source": [
    "df['Time_Orderd']=pd.to_timedelta(df['Time_Orderd'])\n",
    "df['Time_Order_picked']=pd.to_timedelta(df['Time_Order_picked'])\n",
    "\n",
    "df['Time_Order_picked_formatted']=np.where(df['Time_Order_picked'] < df['Time_Orderd'], df['Order_Date'] + pd.DateOffset(1)+df['Time_Order_picked'], df['Order_Date']+df['Time_Order_picked'])\n",
    "df['Time_Ordered_formatted'] = df['Order_Date']+ df['Time_Orderd']\n",
    "df['order_preparation_time']=((df['Time_Order_picked_formatted']- df['Time_Ordered_formatted']).dt.total_seconds())/60"
   ]
  },
  {
   "cell_type": "code",
   "execution_count": 21,
   "id": "2819e3fe",
   "metadata": {},
   "outputs": [
    {
     "name": "stdout",
     "output_type": "stream",
     "text": [
      "<class 'pandas.core.frame.DataFrame'>\n",
      "Int64Index: 56992 entries, 0 to 45592\n",
      "Data columns (total 25 columns):\n",
      " #   Column                       Non-Null Count  Dtype          \n",
      "---  ------                       --------------  -----          \n",
      " 0   ID                           56992 non-null  object         \n",
      " 1   Delivery_person_ID           56992 non-null  object         \n",
      " 2   Delivery_person_Age          54647 non-null  float64        \n",
      " 3   Delivery_person_Ratings      54577 non-null  float64        \n",
      " 4   Restaurant_latitude          56992 non-null  float64        \n",
      " 5   Restaurant_longitude         56992 non-null  float64        \n",
      " 6   Delivery_location_latitude   56992 non-null  float64        \n",
      " 7   Delivery_location_longitude  56992 non-null  float64        \n",
      " 8   Order_Date                   56992 non-null  datetime64[ns] \n",
      " 9   Time_Orderd                  54817 non-null  timedelta64[ns]\n",
      " 10  Time_Order_picked            56992 non-null  timedelta64[ns]\n",
      " 11  Weatherconditions            56218 non-null  object         \n",
      " 12  Road_traffic_density         56237 non-null  object         \n",
      " 13  Vehicle_condition            56992 non-null  float64        \n",
      " 14  Type_of_order                56992 non-null  object         \n",
      " 15  Type_of_vehicle              56992 non-null  object         \n",
      " 16  multiple_deliveries          55761 non-null  object         \n",
      " 17  Festival                     56699 non-null  object         \n",
      " 18  City                         55468 non-null  object         \n",
      " 19  indic                        56992 non-null  object         \n",
      " 20  Time_taken(min)              45593 non-null  float64        \n",
      " 21  distance                     56992 non-null  float64        \n",
      " 22  Time_Order_picked_formatted  56992 non-null  datetime64[ns] \n",
      " 23  Time_Ordered_formatted       54817 non-null  datetime64[ns] \n",
      " 24  order_preparation_time       54817 non-null  float64        \n",
      "dtypes: datetime64[ns](3), float64(10), object(10), timedelta64[ns](2)\n",
      "memory usage: 13.3+ MB\n"
     ]
    }
   ],
   "source": [
    "df.info()"
   ]
  },
  {
   "cell_type": "code",
   "execution_count": 22,
   "id": "cee68123",
   "metadata": {},
   "outputs": [
    {
     "data": {
      "text/html": [
       "<div>\n",
       "<style scoped>\n",
       "    .dataframe tbody tr th:only-of-type {\n",
       "        vertical-align: middle;\n",
       "    }\n",
       "\n",
       "    .dataframe tbody tr th {\n",
       "        vertical-align: top;\n",
       "    }\n",
       "\n",
       "    .dataframe thead th {\n",
       "        text-align: right;\n",
       "    }\n",
       "</style>\n",
       "<table border=\"1\" class=\"dataframe\">\n",
       "  <thead>\n",
       "    <tr style=\"text-align: right;\">\n",
       "      <th></th>\n",
       "      <th>ID</th>\n",
       "      <th>Delivery_person_ID</th>\n",
       "      <th>Delivery_person_Age</th>\n",
       "      <th>Delivery_person_Ratings</th>\n",
       "      <th>Restaurant_latitude</th>\n",
       "      <th>Restaurant_longitude</th>\n",
       "      <th>Delivery_location_latitude</th>\n",
       "      <th>Delivery_location_longitude</th>\n",
       "      <th>Order_Date</th>\n",
       "      <th>Time_Orderd</th>\n",
       "      <th>...</th>\n",
       "      <th>Type_of_vehicle</th>\n",
       "      <th>multiple_deliveries</th>\n",
       "      <th>Festival</th>\n",
       "      <th>City</th>\n",
       "      <th>indic</th>\n",
       "      <th>Time_taken(min)</th>\n",
       "      <th>distance</th>\n",
       "      <th>Time_Order_picked_formatted</th>\n",
       "      <th>Time_Ordered_formatted</th>\n",
       "      <th>order_preparation_time</th>\n",
       "    </tr>\n",
       "  </thead>\n",
       "  <tbody>\n",
       "    <tr>\n",
       "      <th>0</th>\n",
       "      <td>0x2318</td>\n",
       "      <td>COIMBRES13DEL01</td>\n",
       "      <td>NaN</td>\n",
       "      <td>NaN</td>\n",
       "      <td>11.003669</td>\n",
       "      <td>76.976494</td>\n",
       "      <td>11.043669</td>\n",
       "      <td>77.016494</td>\n",
       "      <td>2022-03-30</td>\n",
       "      <td>NaT</td>\n",
       "      <td>...</td>\n",
       "      <td>electric_scooter</td>\n",
       "      <td>1</td>\n",
       "      <td>No</td>\n",
       "      <td>Metropolitian</td>\n",
       "      <td>test</td>\n",
       "      <td>NaN</td>\n",
       "      <td>6.0</td>\n",
       "      <td>2022-03-30 15:05:00</td>\n",
       "      <td>NaT</td>\n",
       "      <td>NaN</td>\n",
       "    </tr>\n",
       "    <tr>\n",
       "      <th>1</th>\n",
       "      <td>0x3474</td>\n",
       "      <td>BANGRES15DEL01</td>\n",
       "      <td>28.0</td>\n",
       "      <td>4.6</td>\n",
       "      <td>12.975377</td>\n",
       "      <td>77.696664</td>\n",
       "      <td>13.085377</td>\n",
       "      <td>77.806664</td>\n",
       "      <td>2022-03-29</td>\n",
       "      <td>0 days 20:30:00</td>\n",
       "      <td>...</td>\n",
       "      <td>motorcycle</td>\n",
       "      <td>1</td>\n",
       "      <td>No</td>\n",
       "      <td>Metropolitian</td>\n",
       "      <td>test</td>\n",
       "      <td>NaN</td>\n",
       "      <td>17.0</td>\n",
       "      <td>2022-03-29 20:35:00</td>\n",
       "      <td>2022-03-29 20:30:00</td>\n",
       "      <td>5.0</td>\n",
       "    </tr>\n",
       "    <tr>\n",
       "      <th>2</th>\n",
       "      <td>0x9420</td>\n",
       "      <td>JAPRES09DEL03</td>\n",
       "      <td>23.0</td>\n",
       "      <td>4.5</td>\n",
       "      <td>26.911378</td>\n",
       "      <td>75.789034</td>\n",
       "      <td>27.001378</td>\n",
       "      <td>75.879034</td>\n",
       "      <td>2022-03-10</td>\n",
       "      <td>0 days 19:35:00</td>\n",
       "      <td>...</td>\n",
       "      <td>motorcycle</td>\n",
       "      <td>1</td>\n",
       "      <td>No</td>\n",
       "      <td>Metropolitian</td>\n",
       "      <td>test</td>\n",
       "      <td>NaN</td>\n",
       "      <td>13.0</td>\n",
       "      <td>2022-03-10 19:45:00</td>\n",
       "      <td>2022-03-10 19:35:00</td>\n",
       "      <td>10.0</td>\n",
       "    </tr>\n",
       "    <tr>\n",
       "      <th>3</th>\n",
       "      <td>0x72ee</td>\n",
       "      <td>JAPRES07DEL03</td>\n",
       "      <td>21.0</td>\n",
       "      <td>4.8</td>\n",
       "      <td>26.766536</td>\n",
       "      <td>75.837333</td>\n",
       "      <td>26.856536</td>\n",
       "      <td>75.927333</td>\n",
       "      <td>2022-04-02</td>\n",
       "      <td>0 days 17:15:00</td>\n",
       "      <td>...</td>\n",
       "      <td>scooter</td>\n",
       "      <td>1</td>\n",
       "      <td>No</td>\n",
       "      <td>Metropolitian</td>\n",
       "      <td>test</td>\n",
       "      <td>NaN</td>\n",
       "      <td>13.0</td>\n",
       "      <td>2022-04-02 17:20:00</td>\n",
       "      <td>2022-04-02 17:15:00</td>\n",
       "      <td>5.0</td>\n",
       "    </tr>\n",
       "    <tr>\n",
       "      <th>4</th>\n",
       "      <td>0xa759</td>\n",
       "      <td>CHENRES19DEL01</td>\n",
       "      <td>31.0</td>\n",
       "      <td>4.6</td>\n",
       "      <td>12.986047</td>\n",
       "      <td>80.218114</td>\n",
       "      <td>13.096047</td>\n",
       "      <td>80.328114</td>\n",
       "      <td>2022-03-27</td>\n",
       "      <td>0 days 18:25:00</td>\n",
       "      <td>...</td>\n",
       "      <td>scooter</td>\n",
       "      <td>1</td>\n",
       "      <td>No</td>\n",
       "      <td>Metropolitian</td>\n",
       "      <td>test</td>\n",
       "      <td>NaN</td>\n",
       "      <td>17.0</td>\n",
       "      <td>2022-03-27 18:40:00</td>\n",
       "      <td>2022-03-27 18:25:00</td>\n",
       "      <td>15.0</td>\n",
       "    </tr>\n",
       "  </tbody>\n",
       "</table>\n",
       "<p>5 rows × 25 columns</p>\n",
       "</div>"
      ],
      "text/plain": [
       "        ID Delivery_person_ID  Delivery_person_Age  Delivery_person_Ratings  \\\n",
       "0  0x2318    COIMBRES13DEL01                   NaN                      NaN   \n",
       "1  0x3474     BANGRES15DEL01                  28.0                      4.6   \n",
       "2  0x9420      JAPRES09DEL03                  23.0                      4.5   \n",
       "3  0x72ee      JAPRES07DEL03                  21.0                      4.8   \n",
       "4  0xa759     CHENRES19DEL01                  31.0                      4.6   \n",
       "\n",
       "   Restaurant_latitude  Restaurant_longitude  Delivery_location_latitude  \\\n",
       "0            11.003669             76.976494                   11.043669   \n",
       "1            12.975377             77.696664                   13.085377   \n",
       "2            26.911378             75.789034                   27.001378   \n",
       "3            26.766536             75.837333                   26.856536   \n",
       "4            12.986047             80.218114                   13.096047   \n",
       "\n",
       "   Delivery_location_longitude Order_Date     Time_Orderd  ...  \\\n",
       "0                    77.016494 2022-03-30             NaT  ...   \n",
       "1                    77.806664 2022-03-29 0 days 20:30:00  ...   \n",
       "2                    75.879034 2022-03-10 0 days 19:35:00  ...   \n",
       "3                    75.927333 2022-04-02 0 days 17:15:00  ...   \n",
       "4                    80.328114 2022-03-27 0 days 18:25:00  ...   \n",
       "\n",
       "     Type_of_vehicle multiple_deliveries Festival            City indic  \\\n",
       "0  electric_scooter                    1      No   Metropolitian   test   \n",
       "1        motorcycle                    1      No   Metropolitian   test   \n",
       "2        motorcycle                    1      No   Metropolitian   test   \n",
       "3           scooter                    1      No   Metropolitian   test   \n",
       "4           scooter                    1      No   Metropolitian   test   \n",
       "\n",
       "  Time_taken(min) distance Time_Order_picked_formatted Time_Ordered_formatted  \\\n",
       "0             NaN      6.0         2022-03-30 15:05:00                    NaT   \n",
       "1             NaN     17.0         2022-03-29 20:35:00    2022-03-29 20:30:00   \n",
       "2             NaN     13.0         2022-03-10 19:45:00    2022-03-10 19:35:00   \n",
       "3             NaN     13.0         2022-04-02 17:20:00    2022-04-02 17:15:00   \n",
       "4             NaN     17.0         2022-03-27 18:40:00    2022-03-27 18:25:00   \n",
       "\n",
       "  order_preparation_time  \n",
       "0                    NaN  \n",
       "1                    5.0  \n",
       "2                   10.0  \n",
       "3                    5.0  \n",
       "4                   15.0  \n",
       "\n",
       "[5 rows x 25 columns]"
      ]
     },
     "execution_count": 22,
     "metadata": {},
     "output_type": "execute_result"
    }
   ],
   "source": [
    "df.head()"
   ]
  },
  {
   "cell_type": "code",
   "execution_count": 23,
   "id": "170fc008",
   "metadata": {},
   "outputs": [],
   "source": [
    "#filling missing values with SimpleImputer and ColumnTransformer\n",
    "from sklearn.compose import ColumnTransformer\n",
    "from sklearn.impute import SimpleImputer"
   ]
  },
  {
   "cell_type": "code",
   "execution_count": 24,
   "id": "1b398bbd",
   "metadata": {},
   "outputs": [],
   "source": [
    "cat_attribs = ['Weatherconditions','Road_traffic_density', 'Type_of_order','Type_of_vehicle','Festival','City','indic']\n",
    "num_attribs = ['Delivery_person_Age','Delivery_person_Ratings','Vehicle_condition','distance','Time_taken(min)','order_preparation_time','multiple_deliveries']"
   ]
  },
  {
   "cell_type": "code",
   "execution_count": 25,
   "id": "e04f4c13",
   "metadata": {},
   "outputs": [
    {
     "data": {
      "text/plain": [
       "Delivery_person_Age        0\n",
       "Delivery_person_Ratings    0\n",
       "Vehicle_condition          0\n",
       "distance                   0\n",
       "Time_taken(min)            0\n",
       "order_preparation_time     0\n",
       "multiple_deliveries        0\n",
       "Weatherconditions          0\n",
       "Road_traffic_density       0\n",
       "Type_of_order              0\n",
       "Type_of_vehicle            0\n",
       "Festival                   0\n",
       "City                       0\n",
       "indic                      0\n",
       "dtype: int64"
      ]
     },
     "execution_count": 25,
     "metadata": {},
     "output_type": "execute_result"
    }
   ],
   "source": [
    "numerical_transformer = SimpleImputer(strategy = 'median')\n",
    "categorical_transformer = SimpleImputer(strategy = 'most_frequent')\n",
    "\n",
    "preprocessor = ColumnTransformer( transformers = [\n",
    "    ('num',numerical_transformer,num_attribs),\n",
    "    ('cat',categorical_transformer,cat_attribs)\n",
    "])\n",
    "\n",
    "df_cleant = pd.DataFrame(preprocessor.fit_transform(df), columns = ['Delivery_person_Age','Delivery_person_Ratings',\n",
    "                                                                    'Vehicle_condition','distance','Time_taken(min)',\n",
    "                                                                    'order_preparation_time','multiple_deliveries',\n",
    "                                                                    'Weatherconditions','Road_traffic_density', \n",
    "                                                                    'Type_of_order',\n",
    "                                                                    'Type_of_vehicle','Festival','City','indic'] )\n",
    "df_cleant.isnull().sum()"
   ]
  },
  {
   "cell_type": "code",
   "execution_count": 26,
   "id": "a42d04ba",
   "metadata": {},
   "outputs": [
    {
     "name": "stdout",
     "output_type": "stream",
     "text": [
      "<class 'pandas.core.frame.DataFrame'>\n",
      "RangeIndex: 56992 entries, 0 to 56991\n",
      "Data columns (total 14 columns):\n",
      " #   Column                   Non-Null Count  Dtype  \n",
      "---  ------                   --------------  -----  \n",
      " 0   Delivery_person_Age      56992 non-null  float64\n",
      " 1   Delivery_person_Ratings  56992 non-null  float64\n",
      " 2   Vehicle_condition        56992 non-null  float64\n",
      " 3   distance                 56992 non-null  float64\n",
      " 4   Time_taken(min)          56992 non-null  float64\n",
      " 5   order_preparation_time   56992 non-null  float64\n",
      " 6   multiple_deliveries      56992 non-null  float64\n",
      " 7   Weatherconditions        56992 non-null  object \n",
      " 8   Road_traffic_density     56992 non-null  object \n",
      " 9   Type_of_order            56992 non-null  object \n",
      " 10  Type_of_vehicle          56992 non-null  object \n",
      " 11  Festival                 56992 non-null  object \n",
      " 12  City                     56992 non-null  object \n",
      " 13  indic                    56992 non-null  object \n",
      "dtypes: float64(7), object(7)\n",
      "memory usage: 6.1+ MB\n"
     ]
    }
   ],
   "source": [
    "for col in num_attribs:\n",
    "    df_cleant[col]=df_cleant[col].astype('float64')\n",
    "df_cleant.info()"
   ]
  },
  {
   "cell_type": "code",
   "execution_count": 27,
   "id": "242ebbf3",
   "metadata": {},
   "outputs": [],
   "source": [
    "#While filling the missing values the target feature - Time_taken(min) in the test dataset also got filled with the median value. This will lead to misleading Data visualisations hence I am converting it back to NaN values. There are totally 11399 columns in the test dataset.\n",
    "df_cleant.loc[(df_cleant.indic == 'test') , 'Time_taken(min)'] = np.nan "
   ]
  },
  {
   "cell_type": "code",
   "execution_count": 28,
   "id": "3d00b0ca",
   "metadata": {},
   "outputs": [
    {
     "data": {
      "text/plain": [
       "Delivery_person_Age            0\n",
       "Delivery_person_Ratings        0\n",
       "Vehicle_condition              0\n",
       "distance                       0\n",
       "Time_taken(min)            11399\n",
       "order_preparation_time         0\n",
       "multiple_deliveries            0\n",
       "Weatherconditions              0\n",
       "Road_traffic_density           0\n",
       "Type_of_order                  0\n",
       "Type_of_vehicle                0\n",
       "Festival                       0\n",
       "City                           0\n",
       "indic                          0\n",
       "dtype: int64"
      ]
     },
     "execution_count": 28,
     "metadata": {},
     "output_type": "execute_result"
    }
   ],
   "source": [
    "df_cleant.isnull().sum()"
   ]
  },
  {
   "cell_type": "code",
   "execution_count": 29,
   "id": "10ad075a",
   "metadata": {},
   "outputs": [
    {
     "data": {
      "text/html": [
       "<div>\n",
       "<style scoped>\n",
       "    .dataframe tbody tr th:only-of-type {\n",
       "        vertical-align: middle;\n",
       "    }\n",
       "\n",
       "    .dataframe tbody tr th {\n",
       "        vertical-align: top;\n",
       "    }\n",
       "\n",
       "    .dataframe thead th {\n",
       "        text-align: right;\n",
       "    }\n",
       "</style>\n",
       "<table border=\"1\" class=\"dataframe\">\n",
       "  <thead>\n",
       "    <tr style=\"text-align: right;\">\n",
       "      <th></th>\n",
       "      <th>Delivery_person_Age</th>\n",
       "      <th>Delivery_person_Ratings</th>\n",
       "      <th>Vehicle_condition</th>\n",
       "      <th>distance</th>\n",
       "      <th>Time_taken(min)</th>\n",
       "      <th>order_preparation_time</th>\n",
       "      <th>multiple_deliveries</th>\n",
       "    </tr>\n",
       "  </thead>\n",
       "  <tbody>\n",
       "    <tr>\n",
       "      <th>count</th>\n",
       "      <td>56992.000000</td>\n",
       "      <td>56992.000000</td>\n",
       "      <td>56992.000000</td>\n",
       "      <td>56992.000000</td>\n",
       "      <td>45593.000000</td>\n",
       "      <td>56992.000000</td>\n",
       "      <td>56992.000000</td>\n",
       "    </tr>\n",
       "    <tr>\n",
       "      <th>mean</th>\n",
       "      <td>29.575397</td>\n",
       "      <td>4.636396</td>\n",
       "      <td>1.024968</td>\n",
       "      <td>9.244403</td>\n",
       "      <td>26.294607</td>\n",
       "      <td>9.998684</td>\n",
       "      <td>0.751158</td>\n",
       "    </tr>\n",
       "    <tr>\n",
       "      <th>std</th>\n",
       "      <td>5.691393</td>\n",
       "      <td>0.329666</td>\n",
       "      <td>0.839171</td>\n",
       "      <td>5.563173</td>\n",
       "      <td>9.383806</td>\n",
       "      <td>4.007711</td>\n",
       "      <td>0.567695</td>\n",
       "    </tr>\n",
       "    <tr>\n",
       "      <th>min</th>\n",
       "      <td>15.000000</td>\n",
       "      <td>1.000000</td>\n",
       "      <td>0.000000</td>\n",
       "      <td>1.000000</td>\n",
       "      <td>10.000000</td>\n",
       "      <td>5.000000</td>\n",
       "      <td>0.000000</td>\n",
       "    </tr>\n",
       "    <tr>\n",
       "      <th>25%</th>\n",
       "      <td>25.000000</td>\n",
       "      <td>4.600000</td>\n",
       "      <td>0.000000</td>\n",
       "      <td>4.000000</td>\n",
       "      <td>19.000000</td>\n",
       "      <td>5.000000</td>\n",
       "      <td>0.000000</td>\n",
       "    </tr>\n",
       "    <tr>\n",
       "      <th>50%</th>\n",
       "      <td>30.000000</td>\n",
       "      <td>4.700000</td>\n",
       "      <td>1.000000</td>\n",
       "      <td>9.000000</td>\n",
       "      <td>26.000000</td>\n",
       "      <td>10.000000</td>\n",
       "      <td>1.000000</td>\n",
       "    </tr>\n",
       "    <tr>\n",
       "      <th>75%</th>\n",
       "      <td>34.000000</td>\n",
       "      <td>4.800000</td>\n",
       "      <td>2.000000</td>\n",
       "      <td>13.000000</td>\n",
       "      <td>32.000000</td>\n",
       "      <td>15.000000</td>\n",
       "      <td>1.000000</td>\n",
       "    </tr>\n",
       "    <tr>\n",
       "      <th>max</th>\n",
       "      <td>50.000000</td>\n",
       "      <td>6.000000</td>\n",
       "      <td>3.000000</td>\n",
       "      <td>20.000000</td>\n",
       "      <td>54.000000</td>\n",
       "      <td>15.000000</td>\n",
       "      <td>3.000000</td>\n",
       "    </tr>\n",
       "  </tbody>\n",
       "</table>\n",
       "</div>"
      ],
      "text/plain": [
       "       Delivery_person_Age  Delivery_person_Ratings  Vehicle_condition  \\\n",
       "count         56992.000000             56992.000000       56992.000000   \n",
       "mean             29.575397                 4.636396           1.024968   \n",
       "std               5.691393                 0.329666           0.839171   \n",
       "min              15.000000                 1.000000           0.000000   \n",
       "25%              25.000000                 4.600000           0.000000   \n",
       "50%              30.000000                 4.700000           1.000000   \n",
       "75%              34.000000                 4.800000           2.000000   \n",
       "max              50.000000                 6.000000           3.000000   \n",
       "\n",
       "           distance  Time_taken(min)  order_preparation_time  \\\n",
       "count  56992.000000     45593.000000            56992.000000   \n",
       "mean       9.244403        26.294607                9.998684   \n",
       "std        5.563173         9.383806                4.007711   \n",
       "min        1.000000        10.000000                5.000000   \n",
       "25%        4.000000        19.000000                5.000000   \n",
       "50%        9.000000        26.000000               10.000000   \n",
       "75%       13.000000        32.000000               15.000000   \n",
       "max       20.000000        54.000000               15.000000   \n",
       "\n",
       "       multiple_deliveries  \n",
       "count         56992.000000  \n",
       "mean              0.751158  \n",
       "std               0.567695  \n",
       "min               0.000000  \n",
       "25%               0.000000  \n",
       "50%               1.000000  \n",
       "75%               1.000000  \n",
       "max               3.000000  "
      ]
     },
     "execution_count": 29,
     "metadata": {},
     "output_type": "execute_result"
    }
   ],
   "source": [
    "df_cleant.describe()"
   ]
  },
  {
   "cell_type": "code",
   "execution_count": 30,
   "id": "0843eebe",
   "metadata": {},
   "outputs": [
    {
     "data": {
      "image/png": "[encoded data removed]",
      "text/plain": [
       "<Figure size 432x288 with 1 Axes>"
      ]
     },
     "metadata": {
      "needs_background": "light"
     },
     "output_type": "display_data"
    }
   ],
   "source": [
    "#visualising the target variable\n",
    "fig, ax= plt.subplots()\n",
    "\n",
    "plt.hist(df_cleant['Time_taken(min)'],color = 'Orange')\n",
    "plt.xlabel('Distribution of Time Taken in minutes')\n",
    "plt.ylabel('Frequency')\n",
    "plt.title(\"Histogram of Delivery time distribution\")\n",
    "plt.show()\n",
    "#The distribution rises fast, peaks between 20 and 30 mins and then falls slowly."
   ]
  },
  {
   "cell_type": "code",
   "execution_count": 31,
   "id": "953eb659",
   "metadata": {},
   "outputs": [
    {
     "name": "stderr",
     "output_type": "stream",
     "text": [
      "C:\\Users\\divek\\AppData\\Local\\Temp\\ipykernel_67680\\4183621311.py:10: UserWarning: Matplotlib is currently using module://matplotlib_inline.backend_inline, which is a non-GUI backend, so cannot show the figure.\n",
      "  fig.show()\n"
     ]
    },
    {
     "data": {
      "image/png": "[encoded data removed]",
      "text/plain": [
       "<Figure size 1080x720 with 6 Axes>"
      ]
     },
     "metadata": {
      "needs_background": "light"
     },
     "output_type": "display_data"
    }
   ],
   "source": [
    "# visualising the numerical columns \n",
    "fig, axes = plt.subplots(3,2, figsize = (15,10))\n",
    "\n",
    "df_cleant['Delivery_person_Age'].plot(kind = 'hist', ax = axes[0,0], title = 'Delivery_person_Age')\n",
    "df_cleant['Delivery_person_Ratings'].plot(kind = 'hist', ax = axes[0,1], title = 'Delivery_person_Ratings')\n",
    "df_cleant['distance'].plot(kind = 'kde', ax = axes[1,0] , title = 'distance')\n",
    "df_cleant['order_preparation_time'].plot(kind = 'hist', ax = axes[1,1], title = 'order_preparation_time')\n",
    "df_cleant['Vehicle_condition'].plot(kind = 'hist', ax = axes[2,0], title = 'Vehicle_condition')\n",
    "df_cleant['multiple_deliveries'].plot(kind = 'hist', ax = axes[2,1], title = 'multiple_deliveries')\n",
    "fig.show()"
   ]
  },
  {
   "cell_type": "code",
   "execution_count": 32,
   "id": "77efe4c3",
   "metadata": {},
   "outputs": [
    {
     "data": {
      "text/html": [
       "<div>\n",
       "<style scoped>\n",
       "    .dataframe tbody tr th:only-of-type {\n",
       "        vertical-align: middle;\n",
       "    }\n",
       "\n",
       "    .dataframe tbody tr th {\n",
       "        vertical-align: top;\n",
       "    }\n",
       "\n",
       "    .dataframe thead th {\n",
       "        text-align: right;\n",
       "    }\n",
       "</style>\n",
       "<table border=\"1\" class=\"dataframe\">\n",
       "  <thead>\n",
       "    <tr style=\"text-align: right;\">\n",
       "      <th></th>\n",
       "      <th>count</th>\n",
       "      <th>unique</th>\n",
       "      <th>top</th>\n",
       "      <th>freq</th>\n",
       "    </tr>\n",
       "  </thead>\n",
       "  <tbody>\n",
       "    <tr>\n",
       "      <th>Weatherconditions</th>\n",
       "      <td>56992</td>\n",
       "      <td>6</td>\n",
       "      <td>Fog</td>\n",
       "      <td>10196</td>\n",
       "    </tr>\n",
       "    <tr>\n",
       "      <th>Road_traffic_density</th>\n",
       "      <td>56992</td>\n",
       "      <td>4</td>\n",
       "      <td>Low</td>\n",
       "      <td>20113</td>\n",
       "    </tr>\n",
       "    <tr>\n",
       "      <th>Type_of_order</th>\n",
       "      <td>56992</td>\n",
       "      <td>4</td>\n",
       "      <td>Snack</td>\n",
       "      <td>14348</td>\n",
       "    </tr>\n",
       "    <tr>\n",
       "      <th>Type_of_vehicle</th>\n",
       "      <td>56992</td>\n",
       "      <td>4</td>\n",
       "      <td>motorcycle</td>\n",
       "      <td>33044</td>\n",
       "    </tr>\n",
       "    <tr>\n",
       "      <th>Festival</th>\n",
       "      <td>56992</td>\n",
       "      <td>2</td>\n",
       "      <td>No</td>\n",
       "      <td>55893</td>\n",
       "    </tr>\n",
       "    <tr>\n",
       "      <th>City</th>\n",
       "      <td>56992</td>\n",
       "      <td>3</td>\n",
       "      <td>Metropolitian</td>\n",
       "      <td>44114</td>\n",
       "    </tr>\n",
       "    <tr>\n",
       "      <th>indic</th>\n",
       "      <td>56992</td>\n",
       "      <td>2</td>\n",
       "      <td>train</td>\n",
       "      <td>45593</td>\n",
       "    </tr>\n",
       "  </tbody>\n",
       "</table>\n",
       "</div>"
      ],
      "text/plain": [
       "                      count unique             top   freq\n",
       "Weatherconditions     56992      6             Fog  10196\n",
       "Road_traffic_density  56992      4            Low   20113\n",
       "Type_of_order         56992      4          Snack   14348\n",
       "Type_of_vehicle       56992      4     motorcycle   33044\n",
       "Festival              56992      2             No   55893\n",
       "City                  56992      3  Metropolitian   44114\n",
       "indic                 56992      2           train  45593"
      ]
     },
     "execution_count": 32,
     "metadata": {},
     "output_type": "execute_result"
    }
   ],
   "source": [
    "df_cleant.describe(include = \"O\").T"
   ]
  },
  {
   "cell_type": "code",
   "execution_count": 33,
   "id": "f88bae87",
   "metadata": {},
   "outputs": [
    {
     "data": {
      "text/html": [
       "<div>\n",
       "<style scoped>\n",
       "    .dataframe tbody tr th:only-of-type {\n",
       "        vertical-align: middle;\n",
       "    }\n",
       "\n",
       "    .dataframe tbody tr th {\n",
       "        vertical-align: top;\n",
       "    }\n",
       "\n",
       "    .dataframe thead th {\n",
       "        text-align: right;\n",
       "    }\n",
       "</style>\n",
       "<table border=\"1\" class=\"dataframe\">\n",
       "  <thead>\n",
       "    <tr style=\"text-align: right;\">\n",
       "      <th></th>\n",
       "      <th>Weatherconditions</th>\n",
       "      <th>Road_traffic_density</th>\n",
       "      <th>Type_of_order</th>\n",
       "      <th>Type_of_vehicle</th>\n",
       "      <th>Festival</th>\n",
       "      <th>City</th>\n",
       "      <th>indic</th>\n",
       "    </tr>\n",
       "  </thead>\n",
       "  <tbody>\n",
       "    <tr>\n",
       "      <th>count</th>\n",
       "      <td>56992</td>\n",
       "      <td>56992</td>\n",
       "      <td>56992</td>\n",
       "      <td>56992</td>\n",
       "      <td>56992</td>\n",
       "      <td>56992</td>\n",
       "      <td>56992</td>\n",
       "    </tr>\n",
       "    <tr>\n",
       "      <th>unique</th>\n",
       "      <td>6</td>\n",
       "      <td>4</td>\n",
       "      <td>4</td>\n",
       "      <td>4</td>\n",
       "      <td>2</td>\n",
       "      <td>3</td>\n",
       "      <td>2</td>\n",
       "    </tr>\n",
       "    <tr>\n",
       "      <th>top</th>\n",
       "      <td>Fog</td>\n",
       "      <td>Low</td>\n",
       "      <td>Snack</td>\n",
       "      <td>motorcycle</td>\n",
       "      <td>No</td>\n",
       "      <td>Metropolitian</td>\n",
       "      <td>train</td>\n",
       "    </tr>\n",
       "    <tr>\n",
       "      <th>freq</th>\n",
       "      <td>10196</td>\n",
       "      <td>20113</td>\n",
       "      <td>14348</td>\n",
       "      <td>33044</td>\n",
       "      <td>55893</td>\n",
       "      <td>44114</td>\n",
       "      <td>45593</td>\n",
       "    </tr>\n",
       "  </tbody>\n",
       "</table>\n",
       "</div>"
      ],
      "text/plain": [
       "       Weatherconditions Road_traffic_density Type_of_order Type_of_vehicle  \\\n",
       "count              56992                56992         56992           56992   \n",
       "unique                 6                    4             4               4   \n",
       "top                  Fog                 Low         Snack      motorcycle    \n",
       "freq               10196                20113         14348           33044   \n",
       "\n",
       "       Festival            City  indic  \n",
       "count     56992           56992  56992  \n",
       "unique        2               3      2  \n",
       "top         No   Metropolitian   train  \n",
       "freq      55893           44114  45593  "
      ]
     },
     "execution_count": 33,
     "metadata": {},
     "output_type": "execute_result"
    }
   ],
   "source": [
    "df_cleant.describe(include = \"O\")"
   ]
  },
  {
   "cell_type": "code",
   "execution_count": 34,
   "id": "278a57c3",
   "metadata": {},
   "outputs": [
    {
     "name": "stderr",
     "output_type": "stream",
     "text": [
      "C:\\Users\\divek\\AppData\\Local\\Temp\\ipykernel_67680\\1777056958.py:12: UserWarning: Matplotlib is currently using module://matplotlib_inline.backend_inline, which is a non-GUI backend, so cannot show the figure.\n",
      "  fig.show()\n"
     ]
    },
    {
     "data": {
      "image/png": "[encoded data removed]",
      "text/plain": [
       "<Figure size 1080x1080 with 6 Axes>"
      ]
     },
     "metadata": {},
     "output_type": "display_data"
    }
   ],
   "source": [
    "#univariate categorical data\n",
    "fig, axes = plt.subplots(3,2, figsize = (15,15))\n",
    "\n",
    "df_cleant['Weatherconditions'].value_counts().plot(kind = 'pie', ax = axes[0,0], title = 'Weatherconditions')\n",
    "df_cleant['Road_traffic_density'].value_counts().plot(kind = 'pie', ax = axes[0,1], title = 'Road_traffic_density')\n",
    "df_cleant['Type_of_order'].value_counts().plot(kind = 'pie', ax = axes[1,0], title = 'Type_of_order')\n",
    "df_cleant['Type_of_vehicle'].value_counts().plot(kind = 'pie', ax = axes[1,1], title = 'Type_of_vehicle')\n",
    "df_cleant['Festival'].value_counts().plot(kind = 'pie', ax = axes[2,1], title = 'Festival')\n",
    "df_cleant['City'].value_counts().plot(kind = 'pie', ax = axes[2,0], title = 'City')\n",
    "\n",
    "\n",
    "fig.show()"
   ]
  },
  {
   "cell_type": "code",
   "execution_count": 39,
   "id": "31487c60",
   "metadata": {},
   "outputs": [
    {
     "data": {
      "image/png": "[encoded data removed]",
      "text/plain": [
       "<Figure size 1008x360 with 3 Axes>"
      ]
     },
     "metadata": {
      "needs_background": "light"
     },
     "output_type": "display_data"
    }
   ],
   "source": [
    "#relationship between timetaken and Continuous data\n",
    "cols = ['Delivery_person_Age', 'Delivery_person_Ratings', 'distance']\n",
    "\n",
    "# Plotting scatter plots for each predictor against Time_taken(min)\n",
    "plt.figure(figsize=(14, 5))\n",
    "for i, col in enumerate(cols):\n",
    "    plt.subplot(1, len(cols), i+1)\n",
    "    sns.scatterplot(x=col, y='Time_taken(min)', data=df_cleant)\n",
    "    plt.title(f' {col} and Time_taken(min)')\n",
    "    plt.xlabel(col)\n",
    "    plt.ylabel('Time_taken(min)')\n",
    "\n",
    "plt.tight_layout()\n",
    "plt.show()"
   ]
  },
  {
   "cell_type": "code",
   "execution_count": 40,
   "id": "82c12661",
   "metadata": {},
   "outputs": [
    {
     "name": "stderr",
     "output_type": "stream",
     "text": [
      "C:\\Users\\divek\\AppData\\Local\\Temp\\ipykernel_67680\\3841485678.py:8: UserWarning: Matplotlib is currently using module://matplotlib_inline.backend_inline, which is a non-GUI backend, so cannot show the figure.\n",
      "  fig.show()\n"
     ]
    },
    {
     "data": {
      "image/png": "[encoded data removed]",
      "text/plain": [
       "<Figure size 1080x720 with 4 Axes>"
      ]
     },
     "metadata": {
      "needs_background": "light"
     },
     "output_type": "display_data"
    }
   ],
   "source": [
    "#relationship between time taken and discrete variables\n",
    "fig,axes = plt.subplots(2,2, figsize=(15,10))\n",
    "\n",
    "sns.boxplot(data=df_cleant,x ='multiple_deliveries',y='Time_taken(min)', ax=axes[0,0])\n",
    "sns.boxplot(data=df_cleant,x ='Vehicle_condition',y='Time_taken(min)', ax=axes[1,0])\n",
    "sns.boxplot(data=df_cleant,x ='order_preparation_time',y='Time_taken(min)', ax=axes[0,1])\n",
    "\n",
    "fig.show()"
   ]
  },
  {
   "cell_type": "code",
   "execution_count": 41,
   "id": "ca8b2cef",
   "metadata": {
    "scrolled": true
   },
   "outputs": [
    {
     "data": {
      "image/png": "[encoded data removed]",
      "text/plain": [
       "<Figure size 1080x1296 with 6 Axes>"
      ]
     },
     "metadata": {
      "needs_background": "light"
     },
     "output_type": "display_data"
    }
   ],
   "source": [
    "#relationship between time taken and categorical variables\n",
    "fig,axes = plt.subplots(3,2, figsize=(15,18))\n",
    "\n",
    "sns.boxplot(data=df_cleant,y = 'Weatherconditions', x ='Time_taken(min)', ax=axes[0,0])\n",
    "sns.boxplot(data=df_cleant,y ='Road_traffic_density',x='Time_taken(min)', ax=axes[0,1])\n",
    "sns.boxplot(data=df_cleant,y= 'Type_of_order',x = 'Time_taken(min)',ax=axes[1,1])\n",
    "sns.boxplot(data=df_cleant,y = 'Type_of_vehicle',x = 'Time_taken(min)',ax=axes[1,0])\n",
    "sns.boxplot(data=df_cleant,y= 'Festival',x = 'Time_taken(min)',ax=axes[2,1])\n",
    "sns.boxplot(data=df_cleant,y = 'City',x = 'Time_taken(min)',ax=axes[2,0])\n",
    "plt.show()"
   ]
  },
  {
   "cell_type": "code",
   "execution_count": 42,
   "id": "9bbd160f",
   "metadata": {},
   "outputs": [
    {
     "data": {
      "text/plain": [
       "<AxesSubplot:>"
      ]
     },
     "execution_count": 42,
     "metadata": {},
     "output_type": "execute_result"
    },
    {
     "data": {
      "image/png": "[encoded data removed]",
      "text/plain": [
       "<Figure size 432x288 with 2 Axes>"
      ]
     },
     "metadata": {
      "needs_background": "light"
     },
     "output_type": "display_data"
    }
   ],
   "source": [
    "#correlation heatmap\n",
    "\n",
    "#pal= sns.diverging_palette(250, 30, as_cmap=True)\n",
    "sns.heatmap(df_cleant.corr(), cmap='Oranges', annot = True)"
   ]
  },
  {
   "cell_type": "code",
   "execution_count": 52,
   "id": "fda31e88",
   "metadata": {},
   "outputs": [
    {
     "data": {
      "text/plain": [
       "[array(['Cloudy', 'Fog', 'Sandstorms', 'Stormy', 'Sunny', 'Windy'],\n",
       "       dtype=object),\n",
       " array(['High ', 'Jam ', 'Low ', 'Medium '], dtype=object),\n",
       " array(['Buffet ', 'Drinks ', 'Meal ', 'Snack '], dtype=object),\n",
       " array(['bicycle ', 'electric_scooter ', 'motorcycle ', 'scooter '],\n",
       "       dtype=object),\n",
       " array(['No ', 'Yes '], dtype=object),\n",
       " array(['Metropolitian ', 'Semi-Urban ', 'Urban '], dtype=object)]"
      ]
     },
     "execution_count": 52,
     "metadata": {},
     "output_type": "execute_result"
    }
   ],
   "source": [
    "#converting to binary using OneHotEncoder\n",
    "from sklearn.preprocessing import OneHotEncoder\n",
    "\n",
    "OH_encoder = OneHotEncoder(handle_unknown = 'ignore', drop = 'first',sparse = False)\n",
    "\n",
    "to_binary_cols = df_cleant[['Weatherconditions','Road_traffic_density', 'Type_of_order',\n",
    "              'Type_of_vehicle','Festival','City']]\n",
    "\n",
    "df_binary = pd.DataFrame(OH_encoder.fit_transform(to_binary_cols), \n",
    "                         columns = ['Fog', 'Sandstorms', 'Stormy', 'Sunny', 'Windy', 'Jam ', \n",
    "                                    'Low ', 'Medium ','Drinks ', 'Meal ', 'Snack ','electric_scooter ', \n",
    "                                    'motorcycle ', 'scooter ','festival','Semi-Urban ', 'Urban '])\n",
    "OH_encoder.categories_"
   ]
  },
  {
   "cell_type": "code",
   "execution_count": 53,
   "id": "df112ccf",
   "metadata": {},
   "outputs": [
    {
     "data": {
      "text/html": [
       "<div>\n",
       "<style scoped>\n",
       "    .dataframe tbody tr th:only-of-type {\n",
       "        vertical-align: middle;\n",
       "    }\n",
       "\n",
       "    .dataframe tbody tr th {\n",
       "        vertical-align: top;\n",
       "    }\n",
       "\n",
       "    .dataframe thead th {\n",
       "        text-align: right;\n",
       "    }\n",
       "</style>\n",
       "<table border=\"1\" class=\"dataframe\">\n",
       "  <thead>\n",
       "    <tr style=\"text-align: right;\">\n",
       "      <th></th>\n",
       "      <th>Fog</th>\n",
       "      <th>Sandstorms</th>\n",
       "      <th>Stormy</th>\n",
       "      <th>Sunny</th>\n",
       "      <th>Windy</th>\n",
       "      <th>Jam</th>\n",
       "      <th>Low</th>\n",
       "      <th>Medium</th>\n",
       "      <th>Drinks</th>\n",
       "      <th>Meal</th>\n",
       "      <th>Snack</th>\n",
       "      <th>electric_scooter</th>\n",
       "      <th>motorcycle</th>\n",
       "      <th>scooter</th>\n",
       "      <th>festival</th>\n",
       "      <th>Semi-Urban</th>\n",
       "      <th>Urban</th>\n",
       "    </tr>\n",
       "  </thead>\n",
       "  <tbody>\n",
       "    <tr>\n",
       "      <th>0</th>\n",
       "      <td>1.0</td>\n",
       "      <td>0.0</td>\n",
       "      <td>0.0</td>\n",
       "      <td>0.0</td>\n",
       "      <td>0.0</td>\n",
       "      <td>0.0</td>\n",
       "      <td>1.0</td>\n",
       "      <td>0.0</td>\n",
       "      <td>1.0</td>\n",
       "      <td>0.0</td>\n",
       "      <td>0.0</td>\n",
       "      <td>1.0</td>\n",
       "      <td>0.0</td>\n",
       "      <td>0.0</td>\n",
       "      <td>0.0</td>\n",
       "      <td>0.0</td>\n",
       "      <td>0.0</td>\n",
       "    </tr>\n",
       "    <tr>\n",
       "      <th>1</th>\n",
       "      <td>0.0</td>\n",
       "      <td>0.0</td>\n",
       "      <td>0.0</td>\n",
       "      <td>0.0</td>\n",
       "      <td>1.0</td>\n",
       "      <td>1.0</td>\n",
       "      <td>0.0</td>\n",
       "      <td>0.0</td>\n",
       "      <td>0.0</td>\n",
       "      <td>0.0</td>\n",
       "      <td>1.0</td>\n",
       "      <td>0.0</td>\n",
       "      <td>1.0</td>\n",
       "      <td>0.0</td>\n",
       "      <td>0.0</td>\n",
       "      <td>0.0</td>\n",
       "      <td>0.0</td>\n",
       "    </tr>\n",
       "    <tr>\n",
       "      <th>2</th>\n",
       "      <td>0.0</td>\n",
       "      <td>0.0</td>\n",
       "      <td>1.0</td>\n",
       "      <td>0.0</td>\n",
       "      <td>0.0</td>\n",
       "      <td>1.0</td>\n",
       "      <td>0.0</td>\n",
       "      <td>0.0</td>\n",
       "      <td>1.0</td>\n",
       "      <td>0.0</td>\n",
       "      <td>0.0</td>\n",
       "      <td>0.0</td>\n",
       "      <td>1.0</td>\n",
       "      <td>0.0</td>\n",
       "      <td>0.0</td>\n",
       "      <td>0.0</td>\n",
       "      <td>0.0</td>\n",
       "    </tr>\n",
       "    <tr>\n",
       "      <th>3</th>\n",
       "      <td>1.0</td>\n",
       "      <td>0.0</td>\n",
       "      <td>0.0</td>\n",
       "      <td>0.0</td>\n",
       "      <td>0.0</td>\n",
       "      <td>0.0</td>\n",
       "      <td>0.0</td>\n",
       "      <td>1.0</td>\n",
       "      <td>0.0</td>\n",
       "      <td>1.0</td>\n",
       "      <td>0.0</td>\n",
       "      <td>0.0</td>\n",
       "      <td>0.0</td>\n",
       "      <td>1.0</td>\n",
       "      <td>0.0</td>\n",
       "      <td>0.0</td>\n",
       "      <td>0.0</td>\n",
       "    </tr>\n",
       "    <tr>\n",
       "      <th>4</th>\n",
       "      <td>0.0</td>\n",
       "      <td>0.0</td>\n",
       "      <td>0.0</td>\n",
       "      <td>1.0</td>\n",
       "      <td>0.0</td>\n",
       "      <td>0.0</td>\n",
       "      <td>0.0</td>\n",
       "      <td>1.0</td>\n",
       "      <td>1.0</td>\n",
       "      <td>0.0</td>\n",
       "      <td>0.0</td>\n",
       "      <td>0.0</td>\n",
       "      <td>0.0</td>\n",
       "      <td>1.0</td>\n",
       "      <td>0.0</td>\n",
       "      <td>0.0</td>\n",
       "      <td>0.0</td>\n",
       "    </tr>\n",
       "  </tbody>\n",
       "</table>\n",
       "</div>"
      ],
      "text/plain": [
       "   Fog  Sandstorms  Stormy  Sunny  Windy  Jam   Low   Medium   Drinks   Meal   \\\n",
       "0  1.0         0.0     0.0    0.0    0.0   0.0   1.0      0.0      1.0    0.0   \n",
       "1  0.0         0.0     0.0    0.0    1.0   1.0   0.0      0.0      0.0    0.0   \n",
       "2  0.0         0.0     1.0    0.0    0.0   1.0   0.0      0.0      1.0    0.0   \n",
       "3  1.0         0.0     0.0    0.0    0.0   0.0   0.0      1.0      0.0    1.0   \n",
       "4  0.0         0.0     0.0    1.0    0.0   0.0   0.0      1.0      1.0    0.0   \n",
       "\n",
       "   Snack   electric_scooter   motorcycle   scooter   festival  Semi-Urban   \\\n",
       "0     0.0                1.0          0.0       0.0       0.0          0.0   \n",
       "1     1.0                0.0          1.0       0.0       0.0          0.0   \n",
       "2     0.0                0.0          1.0       0.0       0.0          0.0   \n",
       "3     0.0                0.0          0.0       1.0       0.0          0.0   \n",
       "4     0.0                0.0          0.0       1.0       0.0          0.0   \n",
       "\n",
       "   Urban   \n",
       "0     0.0  \n",
       "1     0.0  \n",
       "2     0.0  \n",
       "3     0.0  \n",
       "4     0.0  "
      ]
     },
     "execution_count": 53,
     "metadata": {},
     "output_type": "execute_result"
    }
   ],
   "source": [
    "df_binary.head()"
   ]
  },
  {
   "cell_type": "code",
   "execution_count": 54,
   "id": "9c946b1d",
   "metadata": {},
   "outputs": [],
   "source": [
    "df_num = df_cleant[['Delivery_person_Age','Delivery_person_Ratings','Vehicle_condition',\n",
    "                   'distance','Time_taken(min)','order_preparation_time','indic','multiple_deliveries']]"
   ]
  },
  {
   "cell_type": "code",
   "execution_count": 55,
   "id": "a7b41988",
   "metadata": {},
   "outputs": [
    {
     "data": {
      "text/html": [
       "<div>\n",
       "<style scoped>\n",
       "    .dataframe tbody tr th:only-of-type {\n",
       "        vertical-align: middle;\n",
       "    }\n",
       "\n",
       "    .dataframe tbody tr th {\n",
       "        vertical-align: top;\n",
       "    }\n",
       "\n",
       "    .dataframe thead th {\n",
       "        text-align: right;\n",
       "    }\n",
       "</style>\n",
       "<table border=\"1\" class=\"dataframe\">\n",
       "  <thead>\n",
       "    <tr style=\"text-align: right;\">\n",
       "      <th></th>\n",
       "      <th>Delivery_person_Age</th>\n",
       "      <th>Delivery_person_Ratings</th>\n",
       "      <th>Vehicle_condition</th>\n",
       "      <th>distance</th>\n",
       "      <th>Time_taken(min)</th>\n",
       "      <th>order_preparation_time</th>\n",
       "      <th>indic</th>\n",
       "      <th>multiple_deliveries</th>\n",
       "      <th>Fog</th>\n",
       "      <th>Sandstorms</th>\n",
       "      <th>...</th>\n",
       "      <th>Medium</th>\n",
       "      <th>Drinks</th>\n",
       "      <th>Meal</th>\n",
       "      <th>Snack</th>\n",
       "      <th>electric_scooter</th>\n",
       "      <th>motorcycle</th>\n",
       "      <th>scooter</th>\n",
       "      <th>festival</th>\n",
       "      <th>Semi-Urban</th>\n",
       "      <th>Urban</th>\n",
       "    </tr>\n",
       "  </thead>\n",
       "  <tbody>\n",
       "    <tr>\n",
       "      <th>0</th>\n",
       "      <td>30.0</td>\n",
       "      <td>4.7</td>\n",
       "      <td>3.0</td>\n",
       "      <td>6.0</td>\n",
       "      <td>NaN</td>\n",
       "      <td>10.0</td>\n",
       "      <td>test</td>\n",
       "      <td>1.0</td>\n",
       "      <td>1.0</td>\n",
       "      <td>0.0</td>\n",
       "      <td>...</td>\n",
       "      <td>0.0</td>\n",
       "      <td>1.0</td>\n",
       "      <td>0.0</td>\n",
       "      <td>0.0</td>\n",
       "      <td>1.0</td>\n",
       "      <td>0.0</td>\n",
       "      <td>0.0</td>\n",
       "      <td>0.0</td>\n",
       "      <td>0.0</td>\n",
       "      <td>0.0</td>\n",
       "    </tr>\n",
       "    <tr>\n",
       "      <th>1</th>\n",
       "      <td>28.0</td>\n",
       "      <td>4.6</td>\n",
       "      <td>0.0</td>\n",
       "      <td>17.0</td>\n",
       "      <td>NaN</td>\n",
       "      <td>5.0</td>\n",
       "      <td>test</td>\n",
       "      <td>1.0</td>\n",
       "      <td>0.0</td>\n",
       "      <td>0.0</td>\n",
       "      <td>...</td>\n",
       "      <td>0.0</td>\n",
       "      <td>0.0</td>\n",
       "      <td>0.0</td>\n",
       "      <td>1.0</td>\n",
       "      <td>0.0</td>\n",
       "      <td>1.0</td>\n",
       "      <td>0.0</td>\n",
       "      <td>0.0</td>\n",
       "      <td>0.0</td>\n",
       "      <td>0.0</td>\n",
       "    </tr>\n",
       "    <tr>\n",
       "      <th>2</th>\n",
       "      <td>23.0</td>\n",
       "      <td>4.5</td>\n",
       "      <td>0.0</td>\n",
       "      <td>13.0</td>\n",
       "      <td>NaN</td>\n",
       "      <td>10.0</td>\n",
       "      <td>test</td>\n",
       "      <td>1.0</td>\n",
       "      <td>0.0</td>\n",
       "      <td>0.0</td>\n",
       "      <td>...</td>\n",
       "      <td>0.0</td>\n",
       "      <td>1.0</td>\n",
       "      <td>0.0</td>\n",
       "      <td>0.0</td>\n",
       "      <td>0.0</td>\n",
       "      <td>1.0</td>\n",
       "      <td>0.0</td>\n",
       "      <td>0.0</td>\n",
       "      <td>0.0</td>\n",
       "      <td>0.0</td>\n",
       "    </tr>\n",
       "    <tr>\n",
       "      <th>3</th>\n",
       "      <td>21.0</td>\n",
       "      <td>4.8</td>\n",
       "      <td>1.0</td>\n",
       "      <td>13.0</td>\n",
       "      <td>NaN</td>\n",
       "      <td>5.0</td>\n",
       "      <td>test</td>\n",
       "      <td>1.0</td>\n",
       "      <td>1.0</td>\n",
       "      <td>0.0</td>\n",
       "      <td>...</td>\n",
       "      <td>1.0</td>\n",
       "      <td>0.0</td>\n",
       "      <td>1.0</td>\n",
       "      <td>0.0</td>\n",
       "      <td>0.0</td>\n",
       "      <td>0.0</td>\n",
       "      <td>1.0</td>\n",
       "      <td>0.0</td>\n",
       "      <td>0.0</td>\n",
       "      <td>0.0</td>\n",
       "    </tr>\n",
       "    <tr>\n",
       "      <th>4</th>\n",
       "      <td>31.0</td>\n",
       "      <td>4.6</td>\n",
       "      <td>2.0</td>\n",
       "      <td>17.0</td>\n",
       "      <td>NaN</td>\n",
       "      <td>15.0</td>\n",
       "      <td>test</td>\n",
       "      <td>1.0</td>\n",
       "      <td>0.0</td>\n",
       "      <td>0.0</td>\n",
       "      <td>...</td>\n",
       "      <td>1.0</td>\n",
       "      <td>1.0</td>\n",
       "      <td>0.0</td>\n",
       "      <td>0.0</td>\n",
       "      <td>0.0</td>\n",
       "      <td>0.0</td>\n",
       "      <td>1.0</td>\n",
       "      <td>0.0</td>\n",
       "      <td>0.0</td>\n",
       "      <td>0.0</td>\n",
       "    </tr>\n",
       "  </tbody>\n",
       "</table>\n",
       "<p>5 rows × 25 columns</p>\n",
       "</div>"
      ],
      "text/plain": [
       "   Delivery_person_Age  Delivery_person_Ratings  Vehicle_condition  distance  \\\n",
       "0                 30.0                      4.7                3.0       6.0   \n",
       "1                 28.0                      4.6                0.0      17.0   \n",
       "2                 23.0                      4.5                0.0      13.0   \n",
       "3                 21.0                      4.8                1.0      13.0   \n",
       "4                 31.0                      4.6                2.0      17.0   \n",
       "\n",
       "   Time_taken(min)  order_preparation_time indic  multiple_deliveries  Fog  \\\n",
       "0              NaN                    10.0  test                  1.0  1.0   \n",
       "1              NaN                     5.0  test                  1.0  0.0   \n",
       "2              NaN                    10.0  test                  1.0  0.0   \n",
       "3              NaN                     5.0  test                  1.0  1.0   \n",
       "4              NaN                    15.0  test                  1.0  0.0   \n",
       "\n",
       "   Sandstorms  ...  Medium   Drinks   Meal   Snack   electric_scooter   \\\n",
       "0         0.0  ...      0.0      1.0    0.0     0.0                1.0   \n",
       "1         0.0  ...      0.0      0.0    0.0     1.0                0.0   \n",
       "2         0.0  ...      0.0      1.0    0.0     0.0                0.0   \n",
       "3         0.0  ...      1.0      0.0    1.0     0.0                0.0   \n",
       "4         0.0  ...      1.0      1.0    0.0     0.0                0.0   \n",
       "\n",
       "   motorcycle   scooter   festival  Semi-Urban   Urban   \n",
       "0          0.0       0.0       0.0          0.0     0.0  \n",
       "1          1.0       0.0       0.0          0.0     0.0  \n",
       "2          1.0       0.0       0.0          0.0     0.0  \n",
       "3          0.0       1.0       0.0          0.0     0.0  \n",
       "4          0.0       1.0       0.0          0.0     0.0  \n",
       "\n",
       "[5 rows x 25 columns]"
      ]
     },
     "execution_count": 55,
     "metadata": {},
     "output_type": "execute_result"
    }
   ],
   "source": [
    "df_transformed = pd.concat([df_num,df_binary], axis = 1)\n",
    "df_transformed.head()"
   ]
  },
  {
   "cell_type": "code",
   "execution_count": 56,
   "id": "ccfa80aa",
   "metadata": {},
   "outputs": [],
   "source": [
    " test, train = df_transformed[df_transformed[\"indic\"].eq(\"test\")], df_transformed[df_transformed[\"indic\"].eq(\"train\")]"
   ]
  },
  {
   "cell_type": "code",
   "execution_count": 57,
   "id": "86fcf851",
   "metadata": {},
   "outputs": [],
   "source": [
    "train = pd.DataFrame(df_transformed[df_transformed[\"indic\"].eq(\"train\")])\n",
    "test = pd.DataFrame(df_transformed[df_transformed[\"indic\"].eq(\"test\")])\n"
   ]
  },
  {
   "cell_type": "code",
   "execution_count": 58,
   "id": "c83bd6b4",
   "metadata": {},
   "outputs": [],
   "source": [
    "train.drop(['indic'], axis = 1, inplace = True)\n",
    "test.drop(['indic','Time_taken(min)'], axis = 1, inplace = True)"
   ]
  },
  {
   "cell_type": "code",
   "execution_count": 59,
   "id": "1d1cf3a3",
   "metadata": {},
   "outputs": [
    {
     "name": "stdout",
     "output_type": "stream",
     "text": [
      "<class 'pandas.core.frame.DataFrame'>\n",
      "Int64Index: 45593 entries, 11399 to 56991\n",
      "Data columns (total 24 columns):\n",
      " #   Column                   Non-Null Count  Dtype  \n",
      "---  ------                   --------------  -----  \n",
      " 0   Delivery_person_Age      45593 non-null  float64\n",
      " 1   Delivery_person_Ratings  45593 non-null  float64\n",
      " 2   Vehicle_condition        45593 non-null  float64\n",
      " 3   distance                 45593 non-null  float64\n",
      " 4   Time_taken(min)          45593 non-null  float64\n",
      " 5   order_preparation_time   45593 non-null  float64\n",
      " 6   multiple_deliveries      45593 non-null  float64\n",
      " 7   Fog                      45593 non-null  float64\n",
      " 8   Sandstorms               45593 non-null  float64\n",
      " 9   Stormy                   45593 non-null  float64\n",
      " 10  Sunny                    45593 non-null  float64\n",
      " 11  Windy                    45593 non-null  float64\n",
      " 12  Jam                      45593 non-null  float64\n",
      " 13  Low                      45593 non-null  float64\n",
      " 14  Medium                   45593 non-null  float64\n",
      " 15  Drinks                   45593 non-null  float64\n",
      " 16  Meal                     45593 non-null  float64\n",
      " 17  Snack                    45593 non-null  float64\n",
      " 18  electric_scooter         45593 non-null  float64\n",
      " 19  motorcycle               45593 non-null  float64\n",
      " 20  scooter                  45593 non-null  float64\n",
      " 21  festival                 45593 non-null  float64\n",
      " 22  Semi-Urban               45593 non-null  float64\n",
      " 23  Urban                    45593 non-null  float64\n",
      "dtypes: float64(24)\n",
      "memory usage: 8.7 MB\n"
     ]
    }
   ],
   "source": [
    "train.info()"
   ]
  },
  {
   "cell_type": "code",
   "execution_count": 60,
   "id": "3b09b2eb",
   "metadata": {},
   "outputs": [],
   "source": [
    "X = train.drop(['Time_taken(min)'], axis = 1)\n",
    "y = train['Time_taken(min)']"
   ]
  },
  {
   "cell_type": "code",
   "execution_count": 61,
   "id": "6157d3fc",
   "metadata": {},
   "outputs": [
    {
     "data": {
      "text/plain": [
       "((45593, 23), (45593,))"
      ]
     },
     "execution_count": 61,
     "metadata": {},
     "output_type": "execute_result"
    }
   ],
   "source": [
    "X.shape , y.shape"
   ]
  },
  {
   "cell_type": "code",
   "execution_count": 62,
   "id": "a0f26e25",
   "metadata": {},
   "outputs": [],
   "source": [
    "from sklearn.model_selection import train_test_split\n",
    "\n",
    "X_train, X_test,y_train,y_test = train_test_split(X,y,test_size = 0.4,random_state = 16)"
   ]
  },
  {
   "cell_type": "code",
   "execution_count": 63,
   "id": "b1ff2cec",
   "metadata": {},
   "outputs": [
    {
     "data": {
      "image/png": "[encoded data removed]",
      "text/plain": [
       "<Figure size 432x288 with 1 Axes>"
      ]
     },
     "metadata": {
      "needs_background": "light"
     },
     "output_type": "display_data"
    }
   ],
   "source": [
    "#Feature Selection¶\n",
    "#Random Forest\n",
    "from sklearn.ensemble import RandomForestRegressor\n",
    "\n",
    "\n",
    "rf = RandomForestRegressor( criterion = 'squared_error', random_state = 7)\n",
    "rf.fit(X_train, y_train)\n",
    "\n",
    "feature_importance = rf.feature_importances_\n",
    "plt.bar(X.columns, feature_importance, color = 'orange')\n",
    "plt.xticks(rotation = 'vertical')\n",
    "plt.xlabel('Feature Labels')\n",
    "plt.ylabel('Feature Importances')\n",
    "plt.title('Comparison of different Feature Importances')\n",
    "plt.show()"
   ]
  },
  {
   "cell_type": "code",
   "execution_count": 64,
   "id": "ab9abfa7",
   "metadata": {},
   "outputs": [
    {
     "data": {
      "text/plain": [
       "Index(['Delivery_person_Age', 'Delivery_person_Ratings', 'Vehicle_condition',\n",
       "       'distance', 'multiple_deliveries', 'Sunny', 'Low '],\n",
       "      dtype='object')"
      ]
     },
     "execution_count": 64,
     "metadata": {},
     "output_type": "execute_result"
    }
   ],
   "source": [
    "#using select from model\n",
    "from sklearn.feature_selection import SelectFromModel\n",
    "\n",
    "rf_selector = SelectFromModel(estimator=RandomForestRegressor())\n",
    "rf_selector.fit(X_train, y_train)\n",
    "X.columns[rf_selector.get_support()]"
   ]
  },
  {
   "cell_type": "code",
   "execution_count": 65,
   "id": "f83ad02f",
   "metadata": {},
   "outputs": [],
   "source": [
    "#Features with higher importance scores are considered more relevant for the model\n",
    "#delivery_person_ratings,delivery_person_age,multiple deliveries,Vehicle_condition,low,sunny,distance"
   ]
  },
  {
   "cell_type": "code",
   "execution_count": 66,
   "id": "cab45b57",
   "metadata": {},
   "outputs": [],
   "source": [
    "#Coefficient Shrinkage: Lasso regression shrinks the coefficients of less important features to exactly zero. This property makes it useful for feature selection as it effectively performs variable selection by excluding features with zero coefficients.\n",
    "#Selection Process: After fitting a Lasso model, you can select features whose coefficients are non-zero. These features are considered relevant for predicting the target variable."
   ]
  },
  {
   "cell_type": "code",
   "execution_count": 67,
   "id": "d43c240c",
   "metadata": {},
   "outputs": [
    {
     "name": "stdout",
     "output_type": "stream",
     "text": [
      "Fisher Scores (Feature Importances) for Training Data:\n",
      "Delivery_person_Age = 0.1304404306136688\n",
      "Delivery_person_Ratings = 0.23342644793981748\n",
      "Vehicle_condition = 0.08119265880359006\n",
      "distance = 0.0678492950297609\n",
      "order_preparation_time = 0.023779228168063483\n",
      "multiple_deliveries = 0.12828672995503215\n",
      "Fog = 0.0173222712399699\n",
      "Sandstorms = 0.010899443574020371\n",
      "Stormy = 0.009934116597576873\n",
      "Sunny = 0.058399367931806195\n",
      "Windy = 0.010736057761726139\n",
      "Jam  = 0.02279246529576474\n",
      "Low  = 0.10403108694077677\n",
      "Medium  = 0.014935872432731076\n",
      "Drinks  = 0.011679414740154331\n",
      "Meal  = 0.011712983501656614\n",
      "Snack  = 0.011715441606538096\n",
      "electric_scooter  = 0.003950997811117688\n",
      "motorcycle  = 0.0055839716325063495\n",
      "scooter  = 0.005854995181255921\n",
      "festival = 0.018273586967650277\n",
      "Semi-Urban  = 0.004355727240519267\n",
      "Urban  = 0.012847409034296531\n"
     ]
    }
   ],
   "source": [
    "#Fisher's score\n",
    "rf = RandomForestRegressor(random_state=8)\n",
    "rf.fit(X_train, y_train)\n",
    "\n",
    "# Get feature importances for training data\n",
    "train_feature_importances = rf.feature_importances_\n",
    "\n",
    "# Get column names from X_train\n",
    "feature_names = X_train.columns\n",
    "\n",
    "# Calculate Fisher's score (simplified example)\n",
    "# In this case, we can use normalized feature importances as a heuristic for Fisher's score\n",
    "train_fisher_scores = train_feature_importances / np.sum(train_feature_importances)\n",
    "\n",
    "# Print or use train_fisher_scores as needed with feature names\n",
    "print(\"Fisher Scores (Feature Importances) for Training Data:\")\n",
    "for i, (feature_name, score) in enumerate(zip(feature_names, train_fisher_scores)):\n",
    "    print(f\"{feature_name} = {score}\")"
   ]
  },
  {
   "cell_type": "code",
   "execution_count": 68,
   "id": "1ceac482",
   "metadata": {},
   "outputs": [],
   "source": [
    "#Delivery_person_Age ,multiple_deliveries ,Low  ,Delivery_person_Ratings ,Vehicle_condition ,Sunny,Urban  ,Jam  "
   ]
  },
  {
   "cell_type": "code",
   "execution_count": 73,
   "id": "ea8d1564",
   "metadata": {},
   "outputs": [
    {
     "name": "stdout",
     "output_type": "stream",
     "text": [
      "Best alpha : 0.015667816095909375\n"
     ]
    }
   ],
   "source": [
    "#Using LassoCv to find the best alpha\n",
    "from sklearn.linear_model import LassoCV\n",
    "\n",
    "lassocv = LassoCV(cv = 10)\n",
    "\n",
    "lassocv.fit(X_train, y_train)\n",
    "alpha = lassocv.alpha_\n",
    "print(\"Best alpha :\", alpha)"
   ]
  },
  {
   "cell_type": "code",
   "execution_count": 74,
   "id": "33218f37",
   "metadata": {},
   "outputs": [
    {
     "name": "stdout",
     "output_type": "stream",
     "text": [
      "Index(['Delivery_person_Age', 'Delivery_person_Ratings', 'Vehicle_condition',\n",
      "       'distance', 'order_preparation_time', 'multiple_deliveries', 'Fog',\n",
      "       'Sandstorms', 'Stormy', 'Sunny', 'Windy', 'Jam ', 'Low ', 'Medium ',\n",
      "       'electric_scooter ', 'scooter ', 'festival', 'Semi-Urban ', 'Urban '],\n",
      "      dtype='object')\n"
     ]
    },
    {
     "data": {
      "image/png": "[encoded data removed]",
      "text/plain": [
       "<Figure size 432x288 with 1 Axes>"
      ]
     },
     "metadata": {
      "needs_background": "light"
     },
     "output_type": "display_data"
    }
   ],
   "source": [
    "#Lasso \n",
    "from sklearn.linear_model import Lasso\n",
    "\n",
    "lasso_selector = SelectFromModel(Lasso(alpha = 0.0155, random_state = 34))\n",
    "lasso_selector.fit(X_train, y_train)\n",
    "print(X.columns[lasso_selector.get_support()])\n",
    "\n",
    "coefs = lassocv.coef_\n",
    "plt.bar(X_train.columns, coefs, color = 'orange')\n",
    "plt.xticks(rotation = 'vertical')\n",
    "plt.xlabel('Feature Labels')\n",
    "plt.ylabel('Feature Coefficents')\n",
    "plt.title('Comparison of different Feature Importances')\n",
    "plt.show()"
   ]
  },
  {
   "cell_type": "code",
   "execution_count": 75,
   "id": "e9c0fbfd",
   "metadata": {},
   "outputs": [],
   "source": [
    "#non zero-multiple deliveries,jam,festival,semi-urban,delivery perosn age,fog"
   ]
  },
  {
   "cell_type": "code",
   "execution_count": 76,
   "id": "26d25a12",
   "metadata": {},
   "outputs": [
    {
     "data": {
      "text/plain": [
       "Index(['Delivery_person_Age', 'Delivery_person_Ratings', 'multiple_deliveries',\n",
       "       'Jam ', 'Low '],\n",
       "      dtype='object')"
      ]
     },
     "execution_count": 76,
     "metadata": {},
     "output_type": "execute_result"
    }
   ],
   "source": [
    "#Select top 7 features based on mutual info regression\n",
    "from sklearn.feature_selection import SelectKBest, mutual_info_regression\n",
    "\n",
    "selector = SelectKBest(mutual_info_regression, k =5)\n",
    "selector.fit(X_train, y_train)\n",
    "X.columns[selector.get_support()]"
   ]
  },
  {
   "cell_type": "code",
   "execution_count": 77,
   "id": "9cd63466",
   "metadata": {},
   "outputs": [],
   "source": [
    "# Based on the above two, we can select 8 common features:\n",
    "#Delivery_person_Age\n",
    "# Delivery person ratings\n",
    "# multiple deliveries\n",
    "# Low\n",
    "# vehicle condition\n",
    "# Festival\n",
    "# Delivery person age\n"
   ]
  },
  {
   "cell_type": "code",
   "execution_count": 84,
   "id": "d716a280",
   "metadata": {},
   "outputs": [
    {
     "data": {
      "text/html": [
       "<div>\n",
       "<style scoped>\n",
       "    .dataframe tbody tr th:only-of-type {\n",
       "        vertical-align: middle;\n",
       "    }\n",
       "\n",
       "    .dataframe tbody tr th {\n",
       "        vertical-align: top;\n",
       "    }\n",
       "\n",
       "    .dataframe thead th {\n",
       "        text-align: right;\n",
       "    }\n",
       "</style>\n",
       "<table border=\"1\" class=\"dataframe\">\n",
       "  <thead>\n",
       "    <tr style=\"text-align: right;\">\n",
       "      <th></th>\n",
       "      <th>Delivery_person_Age</th>\n",
       "      <th>Delivery_person_Ratings</th>\n",
       "      <th>Vehicle_condition</th>\n",
       "      <th>multiple_deliveries</th>\n",
       "      <th>Jam</th>\n",
       "      <th>Low</th>\n",
       "      <th>festival</th>\n",
       "    </tr>\n",
       "  </thead>\n",
       "  <tbody>\n",
       "    <tr>\n",
       "      <th>20086</th>\n",
       "      <td>39.0</td>\n",
       "      <td>4.6</td>\n",
       "      <td>0.0</td>\n",
       "      <td>1.0</td>\n",
       "      <td>0.0</td>\n",
       "      <td>0.0</td>\n",
       "      <td>0.0</td>\n",
       "    </tr>\n",
       "    <tr>\n",
       "      <th>28108</th>\n",
       "      <td>27.0</td>\n",
       "      <td>2.7</td>\n",
       "      <td>2.0</td>\n",
       "      <td>1.0</td>\n",
       "      <td>0.0</td>\n",
       "      <td>1.0</td>\n",
       "      <td>0.0</td>\n",
       "    </tr>\n",
       "    <tr>\n",
       "      <th>21894</th>\n",
       "      <td>34.0</td>\n",
       "      <td>4.7</td>\n",
       "      <td>0.0</td>\n",
       "      <td>1.0</td>\n",
       "      <td>0.0</td>\n",
       "      <td>0.0</td>\n",
       "      <td>1.0</td>\n",
       "    </tr>\n",
       "    <tr>\n",
       "      <th>15739</th>\n",
       "      <td>36.0</td>\n",
       "      <td>4.7</td>\n",
       "      <td>1.0</td>\n",
       "      <td>1.0</td>\n",
       "      <td>1.0</td>\n",
       "      <td>0.0</td>\n",
       "      <td>0.0</td>\n",
       "    </tr>\n",
       "    <tr>\n",
       "      <th>20491</th>\n",
       "      <td>22.0</td>\n",
       "      <td>4.5</td>\n",
       "      <td>1.0</td>\n",
       "      <td>1.0</td>\n",
       "      <td>0.0</td>\n",
       "      <td>1.0</td>\n",
       "      <td>0.0</td>\n",
       "    </tr>\n",
       "    <tr>\n",
       "      <th>...</th>\n",
       "      <td>...</td>\n",
       "      <td>...</td>\n",
       "      <td>...</td>\n",
       "      <td>...</td>\n",
       "      <td>...</td>\n",
       "      <td>...</td>\n",
       "      <td>...</td>\n",
       "    </tr>\n",
       "    <tr>\n",
       "      <th>48715</th>\n",
       "      <td>30.0</td>\n",
       "      <td>4.6</td>\n",
       "      <td>0.0</td>\n",
       "      <td>1.0</td>\n",
       "      <td>0.0</td>\n",
       "      <td>0.0</td>\n",
       "      <td>0.0</td>\n",
       "    </tr>\n",
       "    <tr>\n",
       "      <th>44802</th>\n",
       "      <td>38.0</td>\n",
       "      <td>5.0</td>\n",
       "      <td>0.0</td>\n",
       "      <td>2.0</td>\n",
       "      <td>1.0</td>\n",
       "      <td>0.0</td>\n",
       "      <td>1.0</td>\n",
       "    </tr>\n",
       "    <tr>\n",
       "      <th>44748</th>\n",
       "      <td>32.0</td>\n",
       "      <td>4.9</td>\n",
       "      <td>2.0</td>\n",
       "      <td>1.0</td>\n",
       "      <td>1.0</td>\n",
       "      <td>0.0</td>\n",
       "      <td>0.0</td>\n",
       "    </tr>\n",
       "    <tr>\n",
       "      <th>13568</th>\n",
       "      <td>31.0</td>\n",
       "      <td>4.5</td>\n",
       "      <td>0.0</td>\n",
       "      <td>0.0</td>\n",
       "      <td>0.0</td>\n",
       "      <td>1.0</td>\n",
       "      <td>0.0</td>\n",
       "    </tr>\n",
       "    <tr>\n",
       "      <th>50992</th>\n",
       "      <td>39.0</td>\n",
       "      <td>4.9</td>\n",
       "      <td>1.0</td>\n",
       "      <td>0.0</td>\n",
       "      <td>0.0</td>\n",
       "      <td>1.0</td>\n",
       "      <td>0.0</td>\n",
       "    </tr>\n",
       "  </tbody>\n",
       "</table>\n",
       "<p>27355 rows × 7 columns</p>\n",
       "</div>"
      ],
      "text/plain": [
       "       Delivery_person_Age  Delivery_person_Ratings  Vehicle_condition  \\\n",
       "20086                 39.0                      4.6                0.0   \n",
       "28108                 27.0                      2.7                2.0   \n",
       "21894                 34.0                      4.7                0.0   \n",
       "15739                 36.0                      4.7                1.0   \n",
       "20491                 22.0                      4.5                1.0   \n",
       "...                    ...                      ...                ...   \n",
       "48715                 30.0                      4.6                0.0   \n",
       "44802                 38.0                      5.0                0.0   \n",
       "44748                 32.0                      4.9                2.0   \n",
       "13568                 31.0                      4.5                0.0   \n",
       "50992                 39.0                      4.9                1.0   \n",
       "\n",
       "       multiple_deliveries  Jam   Low   festival  \n",
       "20086                  1.0   0.0   0.0       0.0  \n",
       "28108                  1.0   0.0   1.0       0.0  \n",
       "21894                  1.0   0.0   0.0       1.0  \n",
       "15739                  1.0   1.0   0.0       0.0  \n",
       "20491                  1.0   0.0   1.0       0.0  \n",
       "...                    ...   ...   ...       ...  \n",
       "48715                  1.0   0.0   0.0       0.0  \n",
       "44802                  2.0   1.0   0.0       1.0  \n",
       "44748                  1.0   1.0   0.0       0.0  \n",
       "13568                  0.0   0.0   1.0       0.0  \n",
       "50992                  0.0   0.0   1.0       0.0  \n",
       "\n",
       "[27355 rows x 7 columns]"
      ]
     },
     "execution_count": 84,
     "metadata": {},
     "output_type": "execute_result"
    }
   ],
   "source": [
    "X_train"
   ]
  },
  {
   "cell_type": "code",
   "execution_count": 79,
   "id": "ccc6f0c0",
   "metadata": {},
   "outputs": [
    {
     "data": {
      "text/plain": [
       "((27355, 8), (27355,))"
      ]
     },
     "execution_count": 79,
     "metadata": {},
     "output_type": "execute_result"
    }
   ],
   "source": [
    "X_train.drop([ 'Fog', 'Sandstorms', 'Stormy','Windy', 'Sunny',\n",
    "            'Medium ','Drinks ', 'Meal ', 'Snack ','electric_scooter ', 'motorcycle ', \n",
    "            'scooter ','Semi-Urban ','distance','order_preparation_time'], \n",
    "             axis = 1, inplace = True)\n",
    "X_train.shape , y_train.shape"
   ]
  },
  {
   "cell_type": "code",
   "execution_count": 80,
   "id": "55a4dee7",
   "metadata": {},
   "outputs": [],
   "source": [
    "X_train.drop(['Urban '],axis=1,inplace=True)\n"
   ]
  },
  {
   "cell_type": "code",
   "execution_count": 81,
   "id": "243c2300",
   "metadata": {},
   "outputs": [
    {
     "data": {
      "text/plain": [
       "((27355, 7), (27355,))"
      ]
     },
     "execution_count": 81,
     "metadata": {},
     "output_type": "execute_result"
    }
   ],
   "source": [
    "X_train.shape , y_train.shape"
   ]
  },
  {
   "cell_type": "code",
   "execution_count": 82,
   "id": "c72cb693",
   "metadata": {},
   "outputs": [
    {
     "data": {
      "text/plain": [
       "((18238, 8), (18238,))"
      ]
     },
     "execution_count": 82,
     "metadata": {},
     "output_type": "execute_result"
    }
   ],
   "source": [
    "X_test.drop([  'Fog', 'Sandstorms', 'Stormy','Windy', 'Sunny',\n",
    "            'Medium ','Drinks ', 'Meal ', 'Snack ','electric_scooter ', 'motorcycle ', \n",
    "            'scooter ','Semi-Urban ','distance','order_preparation_time'], \n",
    "             axis = 1, inplace = True)\n",
    "X_test.shape , y_test.shape"
   ]
  },
  {
   "cell_type": "code",
   "execution_count": 83,
   "id": "8bf2490b",
   "metadata": {},
   "outputs": [
    {
     "data": {
      "text/plain": [
       "((18238, 7), (18238,))"
      ]
     },
     "execution_count": 83,
     "metadata": {},
     "output_type": "execute_result"
    }
   ],
   "source": [
    "X_test.drop(['Urban '],axis=1,inplace=True)\n",
    "X_test.shape , y_test.shape"
   ]
  },
  {
   "cell_type": "markdown",
   "id": "22a266a4",
   "metadata": {},
   "source": [
    "Building Models¶\n",
    "Multiple Linear Regression\n",
    "Decision Trees\n",
    "Random Forests\n",
    "AdaBoost\n",
    "K Nearest Neighbours"
   ]
  },
  {
   "cell_type": "code",
   "execution_count": 85,
   "id": "23f9e262",
   "metadata": {},
   "outputs": [],
   "source": [
    "test_mse = []\n",
    "train_mse = []"
   ]
  },
  {
   "cell_type": "code",
   "execution_count": 86,
   "id": "3bb2fd42",
   "metadata": {},
   "outputs": [],
   "source": [
    "from sklearn.linear_model import LinearRegression\n",
    "from sklearn.metrics import mean_squared_error\n",
    "\n",
    "reg = LinearRegression()\n",
    "reg.fit(X_train, y_train)\n",
    "train_mse.append(mean_squared_error(y_train, reg.predict(X_train)))\n",
    "test_mse.append(mean_squared_error(y_test, reg.predict(X_test)))"
   ]
  },
  {
   "cell_type": "code",
   "execution_count": 87,
   "id": "dd7fc87e",
   "metadata": {},
   "outputs": [
    {
     "name": "stdout",
     "output_type": "stream",
     "text": [
      "Intercept 48.046149868518036\n",
      "('Delivery_person_Age', 0.39833795899590657)\n",
      "('Delivery_person_Ratings', -7.2707129251155145)\n",
      "('Vehicle_condition', -2.0673751569016487)\n",
      "('multiple_deliveries', 3.7765264253638646)\n",
      "('Jam ', 3.1056237688934316)\n",
      "('Low ', -4.9324307109438)\n",
      "('festival', 11.690075929157922)\n",
      "R-squared 0.4826304013277636\n"
     ]
    }
   ],
   "source": [
    "print(\"Intercept\", reg.intercept_ )\n",
    "\n",
    "for i in zip(X_train.columns, reg.coef_):\n",
    "    print(i)\n",
    "    \n",
    "print(\"R-squared\", reg.score(X_train,y_train))    "
   ]
  },
  {
   "cell_type": "code",
   "execution_count": 88,
   "id": "f0acd2b2",
   "metadata": {},
   "outputs": [
    {
     "data": {
      "text/plain": [
       "Text(0, 0.5, 'residuals')"
      ]
     },
     "execution_count": 88,
     "metadata": {},
     "output_type": "execute_result"
    },
    {
     "data": {
      "image/png": "[encoded data removed]",
      "text/plain": [
       "<Figure size 432x288 with 1 Axes>"
      ]
     },
     "metadata": {
      "needs_background": "light"
     },
     "output_type": "display_data"
    }
   ],
   "source": [
    "#Residual Plot\n",
    "plt.scatter(reg.predict(X_test), reg.predict(X_test) - y_test,\n",
    "            color = \"orange\", s = 10, label = \"Test Data\")\n",
    "plt.hlines(y = 0, xmin = 0, xmax = 60, linewidth = 2, color = 'k')\n",
    "plt.title(\"Residual errors\")\n",
    "plt.xlabel(\"Predicted Time Taken\")\n",
    "plt.ylabel(\"residuals\")"
   ]
  },
  {
   "cell_type": "code",
   "execution_count": 89,
   "id": "6eb6cf9c",
   "metadata": {},
   "outputs": [
    {
     "name": "stdout",
     "output_type": "stream",
     "text": [
      "Tree Depth 24\n",
      "Terminal Nodes 4894\n"
     ]
    }
   ],
   "source": [
    "from sklearn.tree import DecisionTreeRegressor\n",
    "\n",
    "dtree = DecisionTreeRegressor(criterion = 'squared_error',random_state = 1)\n",
    "dtree.fit(X_train,y_train)\n",
    "print(\"Tree Depth\",dtree.get_depth())\n",
    "print(\"Terminal Nodes\", dtree.get_n_leaves())\n",
    "train_mse.append(mean_squared_error(y_train, dtree.predict(X_train)))\n",
    "test_mse.append(mean_squared_error(y_test, dtree.predict(X_test)))"
   ]
  },
  {
   "cell_type": "code",
   "execution_count": 90,
   "id": "2b4a797c",
   "metadata": {},
   "outputs": [
    {
     "name": "stdout",
     "output_type": "stream",
     "text": [
      "DecisionTreeRegressor(max_depth=8, max_leaf_nodes=70, random_state=1)\n"
     ]
    }
   ],
   "source": [
    "from sklearn.model_selection import GridSearchCV\n",
    "\n",
    "param_grid = {\n",
    "    'max_depth': [2,4,6,8,10,12,16,20],\n",
    "    'max_leaf_nodes': [6,10,15,20,30,50,70]\n",
    "    }\n",
    "    \n",
    "    \n",
    "dtree_grid_search = GridSearchCV(dtree, param_grid=param_grid,\n",
    "                              cv = 5, scoring = 'neg_mean_squared_error',\n",
    "                              return_train_score = True )\n",
    "dtree_grid_search.fit(X_train, y_train)\n",
    "dtree_grid_search.best_params_\n",
    "print(dtree_grid_search.best_estimator_)"
   ]
  },
  {
   "cell_type": "code",
   "execution_count": 91,
   "id": "a7504d13",
   "metadata": {},
   "outputs": [],
   "source": [
    "#Decision Trees after pruning\n",
    "dtree_pruned = DecisionTreeRegressor(max_depth=10, max_leaf_nodes=70,\n",
    "                                     criterion = 'squared_error',random_state = 1)\n",
    "dtree_pruned.fit(X_train,y_train)\n",
    "#print(dtree.get_depth())\n",
    "#print(dtree.get_n_leaves())\n",
    "train_mse.append(mean_squared_error(y_train, dtree_pruned.predict(X_train)))\n",
    "test_mse.append(mean_squared_error(y_test, dtree_pruned.predict(X_test)))"
   ]
  },
  {
   "cell_type": "code",
   "execution_count": 92,
   "id": "2af7a4c5",
   "metadata": {},
   "outputs": [
    {
     "name": "stdout",
     "output_type": "stream",
     "text": [
      "{'bootstrap': True, 'ccp_alpha': 0.0, 'criterion': 'squared_error', 'max_depth': None, 'max_features': 'auto', 'max_leaf_nodes': None, 'max_samples': None, 'min_impurity_decrease': 0.0, 'min_samples_leaf': 1, 'min_samples_split': 2, 'min_weight_fraction_leaf': 0.0, 'n_estimators': 100, 'n_jobs': None, 'oob_score': False, 'random_state': 5, 'verbose': 0, 'warm_start': False}\n"
     ]
    }
   ],
   "source": [
    "#RandomForest\n",
    "rf_reg = RandomForestRegressor(criterion = 'squared_error', random_state = 5)\n",
    "rf_reg.fit(X_train,y_train)\n",
    "print(rf_reg.get_params(deep=True))\n",
    "train_mse.append(mean_squared_error(y_train, rf_reg.predict(X_train)))\n",
    "test_mse.append(mean_squared_error(y_test, rf_reg.predict(X_test)))"
   ]
  },
  {
   "cell_type": "code",
   "execution_count": 93,
   "id": "7965d330",
   "metadata": {},
   "outputs": [
    {
     "data": {
      "text/plain": [
       "{'max_depth': 8, 'max_features': None}"
      ]
     },
     "execution_count": 93,
     "metadata": {},
     "output_type": "execute_result"
    }
   ],
   "source": [
    "#Hypertunning Random Forest, this code takes about 2 mins to run\n",
    "param_grid = {\n",
    "    'max_depth': [2,4,6,8,10,12],\n",
    "    'max_features': ['sqrt', 'log2', None],\n",
    "}\n",
    "\n",
    "rf_grid_search = GridSearchCV(rf_reg, param_grid=param_grid,\n",
    "                              cv = 5, scoring = 'neg_mean_squared_error',\n",
    "                              return_train_score = True )\n",
    "rf_grid_search.fit(X_train, y_train)\n",
    "rf_grid_search.best_params_"
   ]
  },
  {
   "cell_type": "code",
   "execution_count": 94,
   "id": "aac86d82",
   "metadata": {},
   "outputs": [],
   "source": [
    "#RandomForest with hypertuned parameters\n",
    "rf_cv = RandomForestRegressor(max_depth = 8, max_features = None, random_state = 5)\n",
    "rf_cv.fit(X_train, y_train)\n",
    "train_mse.append(mean_squared_error(y_train, rf_cv.predict(X_train)))\n",
    "test_mse.append(mean_squared_error(y_test, rf_cv.predict(X_test)))"
   ]
  },
  {
   "cell_type": "code",
   "execution_count": 95,
   "id": "980852b9",
   "metadata": {},
   "outputs": [
    {
     "name": "stderr",
     "output_type": "stream",
     "text": [
      "C:\\Users\\divek\\anaconda3\\lib\\site-packages\\seaborn\\_decorators.py:36: FutureWarning: Pass the following variables as keyword args: x, y. From version 0.12, the only valid positional argument will be `data`, and passing other arguments without an explicit keyword will result in an error or misinterpretation.\n",
      "  warnings.warn(\n",
      "C:\\Users\\divek\\anaconda3\\lib\\site-packages\\seaborn\\_decorators.py:36: FutureWarning: Pass the following variables as keyword args: x, y. From version 0.12, the only valid positional argument will be `data`, and passing other arguments without an explicit keyword will result in an error or misinterpretation.\n",
      "  warnings.warn(\n"
     ]
    },
    {
     "data": {
      "text/plain": [
       "Text(0.5, 1.0, 'Mean squared error by model')"
      ]
     },
     "execution_count": 95,
     "metadata": {},
     "output_type": "execute_result"
    },
    {
     "data": {
      "image/png": "[encoded data removed]",
      "text/plain": [
       "<Figure size 864x360 with 1 Axes>"
      ]
     },
     "metadata": {
      "needs_background": "light"
     },
     "output_type": "display_data"
    }
   ],
   "source": [
    "plt.figure(figsize=(12,5))\n",
    "sns.lineplot(['linear','dtree','dtree_pruned','rf','rf_cv'],train_mse,label='Train Score', color = 'Orange')\n",
    "sns.lineplot(['linear','dtree','dtree_pruned','rf','rf_cv'],test_mse,label='Test Score', color = 'Blue')\n",
    "plt.title(\"Mean squared error by model\")"
   ]
  },
  {
   "cell_type": "code",
   "execution_count": 96,
   "id": "419e3d97",
   "metadata": {},
   "outputs": [
    {
     "name": "stdout",
     "output_type": "stream",
     "text": [
      "Mean Squared Error (MSE) by Model:\n",
      "         Method  Train MSE   Test MSE\n",
      "0        linear  45.394865  45.860002\n",
      "1         dtree  29.686422  40.746305\n",
      "2  dtree_pruned  34.500937  35.439211\n",
      "3            rf  29.894493  39.379055\n",
      "4         rf_cv  34.164175  35.169980\n"
     ]
    }
   ],
   "source": [
    "methods = ['linear', 'dtree', 'dtree_pruned', 'rf', 'rf_cv']\n",
    "mse_data = {\n",
    "    'Method': methods,\n",
    "    'Train MSE': train_mse,\n",
    "    'Test MSE': test_mse\n",
    "}\n",
    "mse_df = pd.DataFrame(mse_data)\n",
    "\n",
    "# Display the MSE table\n",
    "print(\"Mean Squared Error (MSE) by Model:\")\n",
    "print(mse_df)"
   ]
  },
  {
   "cell_type": "code",
   "execution_count": null,
   "id": "f3a80963",
   "metadata": {},
   "outputs": [],
   "source": []
  },
  {
   "cell_type": "code",
   "execution_count": null,
   "id": "14c7b7e2",
   "metadata": {},
   "outputs": [],
   "source": []
  }
 ],
 "metadata": {
  "kernelspec": {
   "display_name": "Python 3 (ipykernel)",
   "language": "python",
   "name": "python3"
  },
  "language_info": {
   "codemirror_mode": {
    "name": "ipython",
    "version": 3
   },
   "file_extension": ".py",
   "mimetype": "text/x-python",
   "name": "python",
   "nbconvert_exporter": "python",
   "pygments_lexer": "ipython3",
   "version": "3.9.12"
  }
 },
 "nbformat": 4,
 "nbformat_minor": 5
}
